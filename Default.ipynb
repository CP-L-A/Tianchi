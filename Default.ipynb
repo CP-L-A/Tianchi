{
 "cells": [
  {
   "cell_type": "markdown",
   "id": "847f338b",
   "metadata": {},
   "source": [
    "# 数据探索部分"
   ]
  },
  {
   "cell_type": "code",
   "execution_count": 1,
   "id": "134a8e8d",
   "metadata": {
    "ExecuteTime": {
     "end_time": "2023-02-16T03:02:34.240981Z",
     "start_time": "2023-02-16T03:02:34.235965Z"
    }
   },
   "outputs": [],
   "source": [
    "import pandas as pd\n",
    "import numpy as np\n",
    "import matplotlib.pyplot as plt\n",
    "import seaborn as sns\n",
    "import os\n",
    "#防止炸内核\n",
    "os.environ[\"KMP_DUPLICATE_LIB_OK\"]=\"TRUE\""
   ]
  },
  {
   "cell_type": "code",
   "execution_count": 2,
   "id": "65932e30",
   "metadata": {
    "ExecuteTime": {
     "end_time": "2023-02-16T03:02:34.892207Z",
     "start_time": "2023-02-16T03:02:34.887221Z"
    }
   },
   "outputs": [],
   "source": [
    "def load_data():\n",
    "    train_part=pd.read_csv('C:/Users/LCP/Desktop/统计学习实现/练习/data/Default/train.csv')\n",
    "    features=train_part.columns.tolist()\n",
    "    return train_part,features"
   ]
  },
  {
   "cell_type": "code",
   "execution_count": 3,
   "id": "0913480e",
   "metadata": {
    "ExecuteTime": {
     "end_time": "2023-02-16T03:02:35.459721Z",
     "start_time": "2023-02-16T03:02:35.455700Z"
    }
   },
   "outputs": [],
   "source": [
    "pd.set_option('display.max_columns',None)\n",
    "pd.set_option('display.width',None)\n",
    "pd.set_option('display.max_colwidth',None)"
   ]
  },
  {
   "cell_type": "code",
   "execution_count": 4,
   "id": "4b42a6af",
   "metadata": {
    "ExecuteTime": {
     "end_time": "2023-02-16T03:02:39.639541Z",
     "start_time": "2023-02-16T03:02:36.027172Z"
    }
   },
   "outputs": [
    {
     "data": {
      "text/plain": [
       "47"
      ]
     },
     "execution_count": 4,
     "metadata": {},
     "output_type": "execute_result"
    }
   ],
   "source": [
    "#加载数据及数据特征\n",
    "Train_part,Feature=load_data()\n",
    "#建立一个复制块以防止反复运行\n",
    "Copy_DF=Train_part\n",
    "#显示总特征的数量\n",
    "len(Feature)"
   ]
  },
  {
   "cell_type": "code",
   "execution_count": 5,
   "id": "e00f151d",
   "metadata": {
    "ExecuteTime": {
     "end_time": "2023-02-16T03:02:40.532132Z",
     "start_time": "2023-02-16T03:02:39.641536Z"
    },
    "scrolled": false
   },
   "outputs": [
    {
     "data": {
      "image/png": "[encoded data removed]",
      "text/plain": [
       "<Figure size 640x480 with 1 Axes>"
      ]
     },
     "metadata": {},
     "output_type": "display_data"
    }
   ],
   "source": [
    "#查看各个特征的缺失率\n",
    "null_fea=(Train_part.isnull().sum()/len(Train_part))\n",
    "null_fea=null_fea[null_fea>0]\n",
    "null_fea.sort_values(inplace=True)\n",
    "null_fea.plot.bar()\n",
    "plt.show()"
   ]
  },
  {
   "cell_type": "markdown",
   "id": "7c066067",
   "metadata": {},
   "source": [
    "看每个特征的缺失率，如果缺失率过高直接删除这一个特征，其余特征列可以考虑填充"
   ]
  },
  {
   "cell_type": "code",
   "execution_count": 6,
   "id": "7b215a9d",
   "metadata": {
    "ExecuteTime": {
     "end_time": "2023-02-16T03:02:43.601941Z",
     "start_time": "2023-02-16T03:02:43.452309Z"
    }
   },
   "outputs": [],
   "source": [
    "#ID属性无意义，删除\n",
    "Train_part.drop(columns=['id'],inplace=True)"
   ]
  },
  {
   "cell_type": "code",
   "execution_count": 7,
   "id": "2c281fe8",
   "metadata": {
    "ExecuteTime": {
     "end_time": "2023-02-16T03:02:44.773774Z",
     "start_time": "2023-02-16T03:02:44.177371Z"
    }
   },
   "outputs": [],
   "source": [
    "#缺失值处理\n",
    "Train_part.fillna(method='ffill',inplace=True)"
   ]
  },
  {
   "cell_type": "code",
   "execution_count": 8,
   "id": "c198bbda",
   "metadata": {
    "ExecuteTime": {
     "end_time": "2023-02-16T03:02:45.850060Z",
     "start_time": "2023-02-16T03:02:45.233709Z"
    }
   },
   "outputs": [
    {
     "data": {
      "text/plain": [
       "loanAmnt              0\n",
       "term                  0\n",
       "interestRate          0\n",
       "installment           0\n",
       "grade                 0\n",
       "subGrade              0\n",
       "employmentTitle       0\n",
       "employmentLength      0\n",
       "homeOwnership         0\n",
       "annualIncome          0\n",
       "verificationStatus    0\n",
       "issueDate             0\n",
       "isDefault             0\n",
       "purpose               0\n",
       "postCode              0\n",
       "regionCode            0\n",
       "dti                   0\n",
       "delinquency_2years    0\n",
       "ficoRangeLow          0\n",
       "ficoRangeHigh         0\n",
       "openAcc               0\n",
       "pubRec                0\n",
       "pubRecBankruptcies    0\n",
       "revolBal              0\n",
       "revolUtil             0\n",
       "totalAcc              0\n",
       "initialListStatus     0\n",
       "applicationType       0\n",
       "earliesCreditLine     0\n",
       "title                 0\n",
       "policyCode            0\n",
       "n0                    0\n",
       "n1                    0\n",
       "n2                    0\n",
       "n3                    0\n",
       "n4                    0\n",
       "n5                    0\n",
       "n6                    0\n",
       "n7                    0\n",
       "n8                    0\n",
       "n9                    0\n",
       "n10                   0\n",
       "n11                   0\n",
       "n12                   0\n",
       "n13                   0\n",
       "n14                   0\n",
       "dtype: int64"
      ]
     },
     "execution_count": 8,
     "metadata": {},
     "output_type": "execute_result"
    }
   ],
   "source": [
    "Train_part.isnull().sum()"
   ]
  },
  {
   "cell_type": "markdown",
   "id": "a1671b82",
   "metadata": {},
   "source": [
    "下面需要分析哪些是定类变量，哪些是定量变量\n",
    "由于可能人为对一些变量的类型进行修正"
   ]
  },
  {
   "cell_type": "code",
   "execution_count": 9,
   "id": "f7eed4c1",
   "metadata": {
    "ExecuteTime": {
     "end_time": "2023-02-16T03:02:48.867316Z",
     "start_time": "2023-02-16T03:02:48.687798Z"
    },
    "scrolled": true
   },
   "outputs": [
    {
     "name": "stdout",
     "output_type": "stream",
     "text": [
      "定性特征\n",
      " ['grade', 'subGrade', 'employmentLength', 'issueDate', 'earliesCreditLine']\n",
      "定量特征\n",
      " ['loanAmnt', 'term', 'interestRate', 'installment', 'employmentTitle', 'homeOwnership', 'annualIncome', 'verificationStatus', 'isDefault', 'purpose', 'postCode', 'regionCode', 'dti', 'delinquency_2years', 'ficoRangeLow', 'ficoRangeHigh', 'openAcc', 'pubRec', 'pubRecBankruptcies', 'revolBal', 'revolUtil', 'totalAcc', 'initialListStatus', 'applicationType', 'title', 'policyCode', 'n0', 'n1', 'n2', 'n3', 'n4', 'n5', 'n6', 'n7', 'n8', 'n9', 'n10', 'n11', 'n12', 'n13', 'n14']\n"
     ]
    }
   ],
   "source": [
    "#查看定性类型与定量类型的属性,根据数据类型来选择\n",
    "#object类型的数据认为是定性特征\n",
    "object_feature=Train_part.select_dtypes(include=object).columns.tolist()\n",
    "#其余认为是定量特征\n",
    "num_feature=Train_part.select_dtypes(exclude=object).columns.tolist()\n",
    "print('定性特征'+'\\n',object_feature)\n",
    "print('定量特征'+'\\n',num_feature)"
   ]
  },
  {
   "cell_type": "markdown",
   "id": "cd94fbc2",
   "metadata": {},
   "source": [
    "这些特征的划分比较粗略，需要人工从中剔除一部分"
   ]
  },
  {
   "cell_type": "code",
   "execution_count": 10,
   "id": "77781387",
   "metadata": {
    "ExecuteTime": {
     "end_time": "2023-02-16T03:02:50.223690Z",
     "start_time": "2023-02-16T03:02:50.137918Z"
    }
   },
   "outputs": [
    {
     "data": {
      "text/html": [
       "<div>\n",
       "<style scoped>\n",
       "    .dataframe tbody tr th:only-of-type {\n",
       "        vertical-align: middle;\n",
       "    }\n",
       "\n",
       "    .dataframe tbody tr th {\n",
       "        vertical-align: top;\n",
       "    }\n",
       "\n",
       "    .dataframe thead th {\n",
       "        text-align: right;\n",
       "    }\n",
       "</style>\n",
       "<table border=\"1\" class=\"dataframe\">\n",
       "  <thead>\n",
       "    <tr style=\"text-align: right;\">\n",
       "      <th></th>\n",
       "      <th>grade</th>\n",
       "      <th>subGrade</th>\n",
       "      <th>employmentLength</th>\n",
       "      <th>issueDate</th>\n",
       "      <th>earliesCreditLine</th>\n",
       "    </tr>\n",
       "  </thead>\n",
       "  <tbody>\n",
       "    <tr>\n",
       "      <th>0</th>\n",
       "      <td>E</td>\n",
       "      <td>E2</td>\n",
       "      <td>2 years</td>\n",
       "      <td>2014-07-01</td>\n",
       "      <td>Aug-2001</td>\n",
       "    </tr>\n",
       "    <tr>\n",
       "      <th>1</th>\n",
       "      <td>D</td>\n",
       "      <td>D2</td>\n",
       "      <td>5 years</td>\n",
       "      <td>2012-08-01</td>\n",
       "      <td>May-2002</td>\n",
       "    </tr>\n",
       "    <tr>\n",
       "      <th>2</th>\n",
       "      <td>D</td>\n",
       "      <td>D3</td>\n",
       "      <td>8 years</td>\n",
       "      <td>2015-10-01</td>\n",
       "      <td>May-2006</td>\n",
       "    </tr>\n",
       "    <tr>\n",
       "      <th>3</th>\n",
       "      <td>A</td>\n",
       "      <td>A4</td>\n",
       "      <td>10+ years</td>\n",
       "      <td>2015-08-01</td>\n",
       "      <td>May-1999</td>\n",
       "    </tr>\n",
       "    <tr>\n",
       "      <th>4</th>\n",
       "      <td>C</td>\n",
       "      <td>C2</td>\n",
       "      <td>10+ years</td>\n",
       "      <td>2016-03-01</td>\n",
       "      <td>Aug-1977</td>\n",
       "    </tr>\n",
       "  </tbody>\n",
       "</table>\n",
       "</div>"
      ],
      "text/plain": [
       "  grade subGrade employmentLength   issueDate earliesCreditLine\n",
       "0     E       E2          2 years  2014-07-01          Aug-2001\n",
       "1     D       D2          5 years  2012-08-01          May-2002\n",
       "2     D       D3          8 years  2015-10-01          May-2006\n",
       "3     A       A4        10+ years  2015-08-01          May-1999\n",
       "4     C       C2        10+ years  2016-03-01          Aug-1977"
      ]
     },
     "execution_count": 10,
     "metadata": {},
     "output_type": "execute_result"
    }
   ],
   "source": [
    "#查看定性类型的属性\n",
    "Train_part[object_feature].head()"
   ]
  },
  {
   "cell_type": "code",
   "execution_count": 11,
   "id": "72aaa83f",
   "metadata": {
    "ExecuteTime": {
     "end_time": "2023-02-16T03:02:52.055156Z",
     "start_time": "2023-02-16T03:02:52.050169Z"
    }
   },
   "outputs": [],
   "source": [
    "#把标签从数量特征中删去\n",
    "num_feature.remove('isDefault')"
   ]
  },
  {
   "cell_type": "code",
   "execution_count": 12,
   "id": "998fa10c",
   "metadata": {
    "ExecuteTime": {
     "end_time": "2023-02-16T03:02:52.757278Z",
     "start_time": "2023-02-16T03:02:52.746308Z"
    }
   },
   "outputs": [
    {
     "name": "stdout",
     "output_type": "stream",
     "text": [
      "0    784586\n",
      "1     15414\n",
      "Name: applicationType, dtype: int64\n"
     ]
    }
   ],
   "source": [
    "#查看贷款申请类型属性，该类型应该属于定性特征，查看其分布\n",
    "print(Train_part['applicationType'].value_counts())"
   ]
  },
  {
   "cell_type": "code",
   "execution_count": 13,
   "id": "e6fc9e50",
   "metadata": {
    "ExecuteTime": {
     "end_time": "2023-02-16T03:02:53.551160Z",
     "start_time": "2023-02-16T03:02:53.407547Z"
    }
   },
   "outputs": [],
   "source": [
    "#该类型分布过于不均衡，删除\n",
    "Train_part.drop(columns=['applicationType'],inplace=True)\n",
    "num_feature.remove('applicationType')"
   ]
  },
  {
   "cell_type": "code",
   "execution_count": 14,
   "id": "3f6a3c08",
   "metadata": {
    "ExecuteTime": {
     "end_time": "2023-02-16T03:02:54.056807Z",
     "start_time": "2023-02-16T03:02:54.039854Z"
    }
   },
   "outputs": [
    {
     "name": "stdout",
     "output_type": "stream",
     "text": [
      "1.0    800000\n",
      "Name: policyCode, dtype: int64\n"
     ]
    }
   ],
   "source": [
    "#查看政策属性\n",
    "print(Train_part['policyCode'].value_counts())"
   ]
  },
  {
   "cell_type": "code",
   "execution_count": 15,
   "id": "a7ea382e",
   "metadata": {
    "ExecuteTime": {
     "end_time": "2023-02-16T03:02:56.086075Z",
     "start_time": "2023-02-16T03:02:55.935477Z"
    }
   },
   "outputs": [],
   "source": [
    "#只有一个值，特征无意义，删除\n",
    "Train_part.drop(columns=['policyCode'],inplace=True)\n",
    "num_feature.remove('policyCode')"
   ]
  },
  {
   "cell_type": "code",
   "execution_count": 16,
   "id": "9c585ca2",
   "metadata": {
    "ExecuteTime": {
     "end_time": "2023-02-16T03:02:56.595717Z",
     "start_time": "2023-02-16T03:02:56.583749Z"
    }
   },
   "outputs": [
    {
     "name": "stdout",
     "output_type": "stream",
     "text": [
      "0    395732\n",
      "1    317660\n",
      "2     86309\n",
      "3       185\n",
      "5        81\n",
      "4        33\n",
      "Name: homeOwnership, dtype: int64\n"
     ]
    }
   ],
   "source": [
    "#查看homeownership属性，这个特征可能为定性属性\n",
    "print(Train_part['homeOwnership'].value_counts())"
   ]
  },
  {
   "cell_type": "code",
   "execution_count": 17,
   "id": "364cb8be",
   "metadata": {
    "ExecuteTime": {
     "end_time": "2023-02-16T03:03:07.255583Z",
     "start_time": "2023-02-16T03:02:58.769258Z"
    },
    "scrolled": false
   },
   "outputs": [
    {
     "data": {
      "image/png": "[encoded data removed]",
      "text/plain": [
       "<Figure size 640x480 with 2 Axes>"
      ]
     },
     "metadata": {},
     "output_type": "display_data"
    }
   ],
   "source": [
    "#地区编码和邮编应该有关联，查看这两个变量的分布，分布类似则可以直接选择其中一个进行分析\n",
    "fig=plt.figure()\n",
    "ax1=fig.add_subplot(1,2,1)\n",
    "ax1=sns.kdeplot(Train_part['regionCode'].values,color='r')\n",
    "plt.xlabel('regionCode')\n",
    "ax2=fig.add_subplot(1,2,2)\n",
    "ax2=sns.kdeplot(Train_part['postCode'].values,color='b')\n",
    "plt.xlabel('postCode')\n",
    "plt.show()"
   ]
  },
  {
   "cell_type": "code",
   "execution_count": 18,
   "id": "64dddb06",
   "metadata": {
    "ExecuteTime": {
     "end_time": "2023-02-16T03:03:12.545662Z",
     "start_time": "2023-02-16T03:03:09.722212Z"
    }
   },
   "outputs": [
    {
     "name": "stdout",
     "output_type": "stream",
     "text": [
      "0.1923834738378139\n"
     ]
    }
   ],
   "source": [
    "#查询相关系数\n",
    "print(Train_part.corr()['regionCode']['postCode'])"
   ]
  },
  {
   "cell_type": "code",
   "execution_count": 29,
   "id": "b64dcf29",
   "metadata": {
    "ExecuteTime": {
     "end_time": "2023-02-16T03:03:13.099180Z",
     "start_time": "2023-02-16T03:03:13.088211Z"
    }
   },
   "outputs": [
    {
     "name": "stdout",
     "output_type": "stream",
     "text": [
      "1    309810\n",
      "2    248968\n",
      "0    241222\n",
      "Name: verificationStatus, dtype: int64\n"
     ]
    }
   ],
   "source": [
    "#查看审批状态属性\n",
    "print(Train_part['verificationStatus'].value_counts())"
   ]
  },
  {
   "cell_type": "code",
   "execution_count": 30,
   "id": "cbf725f8",
   "metadata": {
    "ExecuteTime": {
     "end_time": "2023-02-16T03:03:13.661675Z",
     "start_time": "2023-02-16T03:03:13.656690Z"
    }
   },
   "outputs": [],
   "source": [
    "#审批状态属于定性特征\n",
    "num_feature.remove('verificationStatus')\n",
    "object_feature.append('verificationStatus')"
   ]
  },
  {
   "cell_type": "code",
   "execution_count": 31,
   "id": "8f891706",
   "metadata": {
    "ExecuteTime": {
     "end_time": "2023-02-16T03:03:15.455876Z",
     "start_time": "2023-02-16T03:03:14.430618Z"
    }
   },
   "outputs": [],
   "source": [
    "#工作时长是定量特征，删除工作时长的单位，转为定量描述\n",
    "Train_part['employmentLength']=Train_part['employmentLength'].astype(str)\n",
    "Train_part['employmentLength']=Train_part['employmentLength'].map(lambda value:value.replace('years',''))\n",
    "Train_part['employmentLength']=Train_part['employmentLength'].map(lambda value:value.replace('+',''))\n",
    "Train_part['employmentLength']=Train_part['employmentLength'].map(lambda value:value.replace('year',''))\n",
    "Train_part['employmentLength']=Train_part['employmentLength'].map(lambda value:value.replace('< 1','0'))\n",
    "Train_part['employmentLength']=Train_part['employmentLength'].astype(float)\n",
    "#更新定量与定性的特征列表\n",
    "num_feature.append('employmentLength')\n",
    "object_feature.remove('employmentLength')"
   ]
  },
  {
   "cell_type": "code",
   "execution_count": 32,
   "id": "34eceeb9",
   "metadata": {
    "ExecuteTime": {
     "end_time": "2023-02-16T03:03:17.346245Z",
     "start_time": "2023-02-16T03:03:16.569123Z"
    }
   },
   "outputs": [],
   "source": [
    "#构造新特征,从最早信用记录和贷款方法日期构建贷款使用时间长度\n",
    "Train_part['issueDate']=Train_part['issueDate'].map(lambda value:value[:4])\n",
    "Train_part['earliesCreditLine']=Train_part['earliesCreditLine'].map(lambda value:value[-4:])\n",
    "Train_part['issueDate']=Train_part['issueDate'].astype(float)\n",
    "Train_part['earliesCreditLine']=Train_part['earliesCreditLine'].astype(float)\n",
    "#构造完成后，这两个特征可以删除\n",
    "Train_part['issue_Time']=Train_part['issueDate']-Train_part['earliesCreditLine']\n",
    "Train_part.drop(columns=['issueDate','earliesCreditLine'],inplace=True)\n",
    "#更新存放定性特征与定量特征的列表\n",
    "object_feature.remove('issueDate')\n",
    "object_feature.remove('earliesCreditLine')\n",
    "num_feature.append('issue_Time')"
   ]
  },
  {
   "cell_type": "code",
   "execution_count": 33,
   "id": "66f05b59",
   "metadata": {
    "ExecuteTime": {
     "end_time": "2023-02-16T03:03:18.581766Z",
     "start_time": "2023-02-16T03:03:18.577776Z"
    }
   },
   "outputs": [
    {
     "name": "stdout",
     "output_type": "stream",
     "text": [
      "['grade', 'subGrade', 'verificationStatus']\n",
      "['loanAmnt', 'term', 'interestRate', 'installment', 'employmentTitle', 'homeOwnership', 'annualIncome', 'purpose', 'postCode', 'regionCode', 'dti', 'delinquency_2years', 'ficoRangeLow', 'ficoRangeHigh', 'openAcc', 'pubRec', 'pubRecBankruptcies', 'revolBal', 'revolUtil', 'totalAcc', 'initialListStatus', 'title', 'n0', 'n1', 'n2', 'n3', 'n4', 'n5', 'n6', 'n7', 'n8', 'n9', 'n10', 'n11', 'n12', 'n13', 'n14', 'employmentLength', 'issue_Time']\n"
     ]
    }
   ],
   "source": [
    "#重新查看定性特征与定量特征\n",
    "print(object_feature)\n",
    "print(num_feature)"
   ]
  },
  {
   "cell_type": "code",
   "execution_count": 20,
   "id": "02e481c3",
   "metadata": {
    "ExecuteTime": {
     "end_time": "2023-02-16T03:03:19.275911Z",
     "start_time": "2023-02-16T03:03:19.186149Z"
    },
    "scrolled": false
   },
   "outputs": [],
   "source": [
    "#查看定性特征中的变量分布，找出分布不均的\n",
    "for item in object_feature:\n",
    "    temp_dict=Train_part[item].value_counts()\n",
    "    if max(temp_dict.values)>=(len(Train_part)*0.8):\n",
    "        print('特征名:',item)"
   ]
  },
  {
   "cell_type": "code",
   "execution_count": 21,
   "id": "722f0535",
   "metadata": {
    "ExecuteTime": {
     "end_time": "2023-02-16T03:03:22.742966Z",
     "start_time": "2023-02-16T03:03:22.306136Z"
    }
   },
   "outputs": [
    {
     "name": "stdout",
     "output_type": "stream",
     "text": [
      "['loanAmnt', 'interestRate', 'installment', 'employmentTitle', 'annualIncome', 'purpose', 'postCode', 'regionCode', 'dti', 'delinquency_2years', 'ficoRangeLow', 'ficoRangeHigh', 'openAcc', 'pubRec', 'pubRecBankruptcies', 'revolBal', 'revolUtil', 'totalAcc', 'title', 'n0', 'n1', 'n2', 'n3', 'n4', 'n5', 'n6', 'n7', 'n8', 'n9', 'n10', 'n13', 'n14']\n",
      "['term', 'homeOwnership', 'verificationStatus', 'initialListStatus', 'n11', 'n12']\n"
     ]
    }
   ],
   "source": [
    "#找出定量变量中连续型变量与离散型变量\n",
    "#通过统计特征中的值的个数，小于等于10认为属于离散变量，大于10认为属于连续变量\n",
    "def get_contious(DataFrame,feature):\n",
    "    contious=[]\n",
    "    dispersed=[]\n",
    "    for item in feature:\n",
    "        temp=DataFrame[item].nunique()\n",
    "        if temp<=10:\n",
    "            dispersed.append(item)\n",
    "        else:\n",
    "            contious.append(item)\n",
    "    return contious,dispersed\n",
    "\n",
    "contious,dispersed=get_contious(Train_part,num_feature)\n",
    "\n",
    "#连续型变量\n",
    "print(contious)\n",
    "#离散型变量\n",
    "print(dispersed)"
   ]
  },
  {
   "cell_type": "code",
   "execution_count": 23,
   "id": "ab502af2",
   "metadata": {
    "ExecuteTime": {
     "end_time": "2023-02-16T03:03:23.370290Z",
     "start_time": "2023-02-16T03:03:23.334384Z"
    },
    "scrolled": true
   },
   "outputs": [
    {
     "name": "stdout",
     "output_type": "stream",
     "text": [
      "特征名: n11\n",
      "特征名: n12\n"
     ]
    }
   ],
   "source": [
    "#查看离散型变量的变量分布，分布如果严重倾斜可以删去\n",
    "#同时离散变量里也可能有属于定性特征的\n",
    "for item in dispersed:\n",
    "    temp_dict=Train_part[item].value_counts()\n",
    "    if max(temp_dict.values)>=(len(Train_part)*0.9):\n",
    "        print('特征名:',item)"
   ]
  },
  {
   "cell_type": "code",
   "execution_count": 24,
   "id": "31c9568a",
   "metadata": {
    "ExecuteTime": {
     "end_time": "2023-02-16T03:03:25.919337Z",
     "start_time": "2023-02-16T03:03:25.747797Z"
    }
   },
   "outputs": [],
   "source": [
    "#n11、n12的倾斜太严重，删去\n",
    "Train_part.drop(columns=['n11','n12'],inplace=True)\n",
    "\n",
    "dispersed.remove('n11')\n",
    "dispersed.remove('n12')\n",
    "\n",
    "num_feature.remove('n11')\n",
    "num_feature.remove('n12')"
   ]
  },
  {
   "cell_type": "code",
   "execution_count": 25,
   "id": "2d88020e",
   "metadata": {
    "ExecuteTime": {
     "end_time": "2023-02-16T03:03:27.975838Z",
     "start_time": "2023-02-16T03:03:27.970851Z"
    }
   },
   "outputs": [],
   "source": [
    "#贷款列表的初始状态属于定性特征:\n",
    "num_feature.remove('initialListStatus')\n",
    "object_feature.append('initialListStatus')\n",
    "dispersed.remove('initialListStatus')"
   ]
  },
  {
   "cell_type": "code",
   "execution_count": 27,
   "id": "45141e92",
   "metadata": {
    "ExecuteTime": {
     "end_time": "2023-02-16T03:03:42.399476Z",
     "start_time": "2023-02-16T03:03:28.559277Z"
    },
    "scrolled": true
   },
   "outputs": [
    {
     "ename": "KeyboardInterrupt",
     "evalue": "",
     "output_type": "error",
     "traceback": [
      "\u001b[1;31m---------------------------------------------------------------------------\u001b[0m",
      "\u001b[1;31mKeyboardInterrupt\u001b[0m                         Traceback (most recent call last)",
      "Cell \u001b[1;32mIn [27], line 8\u001b[0m\n\u001b[0;32m      6\u001b[0m \u001b[39mfor\u001b[39;00m i \u001b[39min\u001b[39;00m \u001b[39mrange\u001b[39m(\u001b[39mlen\u001b[39m(contious)):\n\u001b[0;32m      7\u001b[0m         ax0\u001b[39m=\u001b[39mfig\u001b[39m.\u001b[39madd_subplot(\u001b[39m17\u001b[39m,\u001b[39m4\u001b[39m,j)\n\u001b[1;32m----> 8\u001b[0m         sns\u001b[39m.\u001b[39mkdeplot(Train_part[contious[i]],color\u001b[39m=\u001b[39m\u001b[39m'\u001b[39m\u001b[39mr\u001b[39m\u001b[39m'\u001b[39m,ax\u001b[39m=\u001b[39max0)\n\u001b[0;32m      9\u001b[0m         plt\u001b[39m.\u001b[39mxlabel(contious[i])\n\u001b[0;32m     10\u001b[0m         j\u001b[39m+\u001b[39m\u001b[39m=\u001b[39m\u001b[39m1\u001b[39m\n",
      "File \u001b[1;32mc:\\Python\\lib\\site-packages\\seaborn\\distributions.py:1723\u001b[0m, in \u001b[0;36mkdeplot\u001b[1;34m(data, x, y, hue, weights, palette, hue_order, hue_norm, color, fill, multiple, common_norm, common_grid, cumulative, bw_method, bw_adjust, warn_singular, log_scale, levels, thresh, gridsize, cut, clip, legend, cbar, cbar_ax, cbar_kws, ax, **kwargs)\u001b[0m\n\u001b[0;32m   1719\u001b[0m \u001b[39mif\u001b[39;00m p\u001b[39m.\u001b[39munivariate:\n\u001b[0;32m   1721\u001b[0m     plot_kws \u001b[39m=\u001b[39m kwargs\u001b[39m.\u001b[39mcopy()\n\u001b[1;32m-> 1723\u001b[0m     p\u001b[39m.\u001b[39mplot_univariate_density(\n\u001b[0;32m   1724\u001b[0m         multiple\u001b[39m=\u001b[39mmultiple,\n\u001b[0;32m   1725\u001b[0m         common_norm\u001b[39m=\u001b[39mcommon_norm,\n\u001b[0;32m   1726\u001b[0m         common_grid\u001b[39m=\u001b[39mcommon_grid,\n\u001b[0;32m   1727\u001b[0m         fill\u001b[39m=\u001b[39mfill,\n\u001b[0;32m   1728\u001b[0m         color\u001b[39m=\u001b[39mcolor,\n\u001b[0;32m   1729\u001b[0m         legend\u001b[39m=\u001b[39mlegend,\n\u001b[0;32m   1730\u001b[0m         warn_singular\u001b[39m=\u001b[39mwarn_singular,\n\u001b[0;32m   1731\u001b[0m         estimate_kws\u001b[39m=\u001b[39mestimate_kws,\n\u001b[0;32m   1732\u001b[0m         \u001b[39m*\u001b[39m\u001b[39m*\u001b[39mplot_kws,\n\u001b[0;32m   1733\u001b[0m     )\n\u001b[0;32m   1735\u001b[0m \u001b[39melse\u001b[39;00m:\n\u001b[0;32m   1737\u001b[0m     p\u001b[39m.\u001b[39mplot_bivariate_density(\n\u001b[0;32m   1738\u001b[0m         common_norm\u001b[39m=\u001b[39mcommon_norm,\n\u001b[0;32m   1739\u001b[0m         fill\u001b[39m=\u001b[39mfill,\n\u001b[1;32m   (...)\u001b[0m\n\u001b[0;32m   1749\u001b[0m         \u001b[39m*\u001b[39m\u001b[39m*\u001b[39mkwargs,\n\u001b[0;32m   1750\u001b[0m     )\n",
      "File \u001b[1;32mc:\\Python\\lib\\site-packages\\seaborn\\distributions.py:935\u001b[0m, in \u001b[0;36m_DistributionPlotter.plot_univariate_density\u001b[1;34m(self, multiple, common_norm, common_grid, warn_singular, fill, color, legend, estimate_kws, **plot_kws)\u001b[0m\n\u001b[0;32m    932\u001b[0m log_scale \u001b[39m=\u001b[39m \u001b[39mself\u001b[39m\u001b[39m.\u001b[39m_log_scaled(\u001b[39mself\u001b[39m\u001b[39m.\u001b[39mdata_variable)\n\u001b[0;32m    934\u001b[0m \u001b[39m# Do the computation\u001b[39;00m\n\u001b[1;32m--> 935\u001b[0m densities \u001b[39m=\u001b[39m \u001b[39mself\u001b[39;49m\u001b[39m.\u001b[39;49m_compute_univariate_density(\n\u001b[0;32m    936\u001b[0m     \u001b[39mself\u001b[39;49m\u001b[39m.\u001b[39;49mdata_variable,\n\u001b[0;32m    937\u001b[0m     common_norm,\n\u001b[0;32m    938\u001b[0m     common_grid,\n\u001b[0;32m    939\u001b[0m     estimate_kws,\n\u001b[0;32m    940\u001b[0m     log_scale,\n\u001b[0;32m    941\u001b[0m     warn_singular,\n\u001b[0;32m    942\u001b[0m )\n\u001b[0;32m    944\u001b[0m \u001b[39m# Adjust densities based on the `multiple` rule\u001b[39;00m\n\u001b[0;32m    945\u001b[0m densities, baselines \u001b[39m=\u001b[39m \u001b[39mself\u001b[39m\u001b[39m.\u001b[39m_resolve_multiple(densities, multiple)\n",
      "File \u001b[1;32mc:\\Python\\lib\\site-packages\\seaborn\\distributions.py:352\u001b[0m, in \u001b[0;36m_DistributionPlotter._compute_univariate_density\u001b[1;34m(self, data_variable, common_norm, common_grid, estimate_kws, log_scale, warn_singular)\u001b[0m\n\u001b[0;32m    348\u001b[0m \u001b[39mtry\u001b[39;00m:\n\u001b[0;32m    349\u001b[0m     \u001b[39mif\u001b[39;00m \u001b[39mnot\u001b[39;00m singular:\n\u001b[0;32m    350\u001b[0m         \u001b[39m# Convoluted approach needed because numerical failures\u001b[39;00m\n\u001b[0;32m    351\u001b[0m         \u001b[39m# can manifest in a few different ways.\u001b[39;00m\n\u001b[1;32m--> 352\u001b[0m         density, support \u001b[39m=\u001b[39m estimator(observations, weights\u001b[39m=\u001b[39;49mweights)\n\u001b[0;32m    353\u001b[0m \u001b[39mexcept\u001b[39;00m np\u001b[39m.\u001b[39mlinalg\u001b[39m.\u001b[39mLinAlgError:\n\u001b[0;32m    354\u001b[0m     singular \u001b[39m=\u001b[39m \u001b[39mTrue\u001b[39;00m\n",
      "File \u001b[1;32mc:\\Python\\lib\\site-packages\\seaborn\\_statistics.py:192\u001b[0m, in \u001b[0;36mKDE.__call__\u001b[1;34m(self, x1, x2, weights)\u001b[0m\n\u001b[0;32m    190\u001b[0m \u001b[39m\"\"\"Fit and evaluate on univariate or bivariate data.\"\"\"\u001b[39;00m\n\u001b[0;32m    191\u001b[0m \u001b[39mif\u001b[39;00m x2 \u001b[39mis\u001b[39;00m \u001b[39mNone\u001b[39;00m:\n\u001b[1;32m--> 192\u001b[0m     \u001b[39mreturn\u001b[39;00m \u001b[39mself\u001b[39;49m\u001b[39m.\u001b[39;49m_eval_univariate(x1, weights)\n\u001b[0;32m    193\u001b[0m \u001b[39melse\u001b[39;00m:\n\u001b[0;32m    194\u001b[0m     \u001b[39mreturn\u001b[39;00m \u001b[39mself\u001b[39m\u001b[39m.\u001b[39m_eval_bivariate(x1, x2, weights)\n",
      "File \u001b[1;32mc:\\Python\\lib\\site-packages\\seaborn\\_statistics.py:161\u001b[0m, in \u001b[0;36mKDE._eval_univariate\u001b[1;34m(self, x, weights)\u001b[0m\n\u001b[0;32m    157\u001b[0m     density \u001b[39m=\u001b[39m np\u001b[39m.\u001b[39marray([\n\u001b[0;32m    158\u001b[0m         kde\u001b[39m.\u001b[39mintegrate_box_1d(s_0, s_i) \u001b[39mfor\u001b[39;00m s_i \u001b[39min\u001b[39;00m support\n\u001b[0;32m    159\u001b[0m     ])\n\u001b[0;32m    160\u001b[0m \u001b[39melse\u001b[39;00m:\n\u001b[1;32m--> 161\u001b[0m     density \u001b[39m=\u001b[39m kde(support)\n\u001b[0;32m    163\u001b[0m \u001b[39mreturn\u001b[39;00m density, support\n",
      "\u001b[1;31mKeyboardInterrupt\u001b[0m: "
     ]
    },
    {
     "data": {
      "image/png": "[encoded data removed]",
      "text/plain": [
       "<Figure size 4000x6000 with 19 Axes>"
      ]
     },
     "metadata": {},
     "output_type": "display_data"
    }
   ],
   "source": [
    "#对于连续型的变量，需要观察数据的分布\n",
    "#一些变量可能服从对数正态分布，所以这里需要画两个图\n",
    "fig=plt.figure(figsize=(40,60))\n",
    "\n",
    "j=1\n",
    "for i in range(len(contious)):\n",
    "        ax0=fig.add_subplot(17,4,j)\n",
    "        sns.kdeplot(Train_part[contious[i]],color='r',ax=ax0)\n",
    "        plt.xlabel(contious[i])\n",
    "        j+=1\n",
    "\n",
    "plt.show()"
   ]
  },
  {
   "cell_type": "code",
   "execution_count": 40,
   "id": "b7afe580",
   "metadata": {
    "ExecuteTime": {
     "end_time": "2023-02-16T03:03:47.533802Z",
     "start_time": "2023-02-16T03:03:47.388192Z"
    }
   },
   "outputs": [],
   "source": [
    "#一些变量可以看做服从对数正态分布,对他们进行对数变换\n",
    "lognormal=['revolBal','annualIncome']\n",
    "for item in lognormal:\n",
    "    Train_part[item]=np.log(Train_part[item]+1e+5)"
   ]
  },
  {
   "cell_type": "code",
   "execution_count": 41,
   "id": "34437cfe",
   "metadata": {
    "ExecuteTime": {
     "end_time": "2023-02-16T03:03:48.926670Z",
     "start_time": "2023-02-16T03:03:48.922681Z"
    }
   },
   "outputs": [
    {
     "name": "stdout",
     "output_type": "stream",
     "text": [
      "['revolBal', 'annualIncome']\n"
     ]
    }
   ],
   "source": [
    "print(lognormal)"
   ]
  },
  {
   "cell_type": "code",
   "execution_count": 42,
   "id": "f958ff30",
   "metadata": {
    "ExecuteTime": {
     "end_time": "2023-02-16T03:03:52.770150Z",
     "start_time": "2023-02-16T03:03:52.764166Z"
    }
   },
   "outputs": [
    {
     "data": {
      "text/plain": [
       "['revolUtil', 'issue_Time', 'totalAcc']"
      ]
     },
     "execution_count": 42,
     "metadata": {},
     "output_type": "execute_result"
    }
   ],
   "source": [
    "normal_list=['revolUtil','issue_Time','totalAcc']\n",
    "normal_list"
   ]
  },
  {
   "cell_type": "code",
   "execution_count": 43,
   "id": "50588f15",
   "metadata": {
    "ExecuteTime": {
     "end_time": "2023-02-16T03:03:58.581888Z",
     "start_time": "2023-02-16T03:03:58.452237Z"
    }
   },
   "outputs": [],
   "source": [
    "#对于一些分布明显不均匀的变量可以删除\n",
    "temp_columns=['delinquency_2years','n13','title','pubRec','n0','pubRecBankruptcies']\n",
    "Train_part.drop(columns=temp_columns,inplace=True)\n",
    "for item in temp_columns:\n",
    "    contious.remove(item)\n",
    "    num_feature.remove(item)"
   ]
  },
  {
   "cell_type": "code",
   "execution_count": 44,
   "id": "bb40e336",
   "metadata": {
    "ExecuteTime": {
     "end_time": "2023-02-16T03:04:14.185270Z",
     "start_time": "2023-02-16T03:03:59.117456Z"
    }
   },
   "outputs": [],
   "source": [
    "#将处理好的数据写入CSV文件\n",
    "Train_part.to_csv('EDA.csv')"
   ]
  },
  {
   "cell_type": "markdown",
   "id": "70168854",
   "metadata": {},
   "source": [
    "可用的定量特征"
   ]
  },
  {
   "cell_type": "code",
   "execution_count": 45,
   "id": "c7e93ac5",
   "metadata": {
    "ExecuteTime": {
     "end_time": "2023-02-16T03:04:16.170486Z",
     "start_time": "2023-02-16T03:04:16.165500Z"
    }
   },
   "outputs": [
    {
     "name": "stdout",
     "output_type": "stream",
     "text": [
      "['loanAmnt', 'term', 'interestRate', 'installment', 'employmentTitle', 'homeOwnership', 'annualIncome', 'purpose', 'postCode', 'regionCode', 'dti', 'ficoRangeLow', 'ficoRangeHigh', 'openAcc', 'revolBal', 'revolUtil', 'totalAcc', 'n1', 'n2', 'n3', 'n4', 'n5', 'n6', 'n7', 'n8', 'n9', 'n10', 'n14', 'employmentLength', 'issue_Time']\n"
     ]
    }
   ],
   "source": [
    "print(num_feature)"
   ]
  },
  {
   "cell_type": "markdown",
   "id": "ae61da0a",
   "metadata": {},
   "source": [
    "可用的定性特征"
   ]
  },
  {
   "cell_type": "code",
   "execution_count": 46,
   "id": "bd5a2fe5",
   "metadata": {
    "ExecuteTime": {
     "end_time": "2023-02-16T03:04:19.255468Z",
     "start_time": "2023-02-16T03:04:19.250481Z"
    },
    "scrolled": true
   },
   "outputs": [
    {
     "name": "stdout",
     "output_type": "stream",
     "text": [
      "['grade', 'subGrade', 'verificationStatus', 'initialListStatus']\n"
     ]
    }
   ],
   "source": [
    "print(object_feature)"
   ]
  },
  {
   "cell_type": "markdown",
   "id": "32635ddb",
   "metadata": {},
   "source": [
    "可用的连续特征"
   ]
  },
  {
   "cell_type": "code",
   "execution_count": 47,
   "id": "a0093395",
   "metadata": {
    "ExecuteTime": {
     "end_time": "2023-02-16T03:04:20.301670Z",
     "start_time": "2023-02-16T03:04:20.296683Z"
    }
   },
   "outputs": [
    {
     "name": "stdout",
     "output_type": "stream",
     "text": [
      "['loanAmnt', 'interestRate', 'installment', 'employmentTitle', 'annualIncome', 'purpose', 'postCode', 'regionCode', 'dti', 'ficoRangeLow', 'ficoRangeHigh', 'openAcc', 'revolBal', 'revolUtil', 'totalAcc', 'n1', 'n2', 'n3', 'n4', 'n5', 'n6', 'n7', 'n8', 'n9', 'n10', 'n14', 'employmentLength', 'issue_Time']\n"
     ]
    }
   ],
   "source": [
    "print(contious)"
   ]
  },
  {
   "cell_type": "markdown",
   "id": "5d65de73",
   "metadata": {},
   "source": [
    "可用的离散特征"
   ]
  },
  {
   "cell_type": "code",
   "execution_count": 48,
   "id": "f640d46f",
   "metadata": {
    "ExecuteTime": {
     "end_time": "2023-02-16T03:04:21.351231Z",
     "start_time": "2023-02-16T03:04:21.346244Z"
    }
   },
   "outputs": [
    {
     "name": "stdout",
     "output_type": "stream",
     "text": [
      "['term', 'homeOwnership']\n"
     ]
    }
   ],
   "source": [
    "print(dispersed)"
   ]
  },
  {
   "cell_type": "markdown",
   "id": "499aaf69",
   "metadata": {},
   "source": [
    "# 特征工程部分与模型训练"
   ]
  },
  {
   "cell_type": "code",
   "execution_count": 1,
   "id": "b3007ee6",
   "metadata": {
    "ExecuteTime": {
     "end_time": "2023-02-16T05:52:58.610891Z",
     "start_time": "2023-02-16T05:52:56.149745Z"
    }
   },
   "outputs": [],
   "source": [
    "import pandas as pd\n",
    "import numpy as np\n",
    "import matplotlib.pyplot as plt\n",
    "import seaborn as sns\n",
    "import os\n",
    "import joblib\n",
    "os.environ[\"KMP_DUPLICATE_LIB_OK\"]=\"TRUE\""
   ]
  },
  {
   "cell_type": "code",
   "execution_count": 2,
   "id": "c9eaabf2",
   "metadata": {
    "ExecuteTime": {
     "end_time": "2023-02-16T05:53:07.604593Z",
     "start_time": "2023-02-16T05:52:59.330713Z"
    }
   },
   "outputs": [],
   "source": [
    "#加载处理过的数据并分隔为验证集和训练集\n",
    "from sklearn.model_selection import train_test_split\n",
    "\n",
    "def Load_DataSet():\n",
    "    DataSet=pd.read_csv('EDA.csv',index_col=0)\n",
    "    Features=DataSet.columns.tolist()\n",
    "    DataSet=np.array(DataSet)\n",
    "    Train_D,Test_D=train_test_split(DataSet,test_size=0.2)\n",
    "    Train_D=pd.DataFrame(Train_D,columns=Features)\n",
    "    Test_D=pd.DataFrame(Test_D,columns=Features)\n",
    "    return Train_D,Test_D,Features\n",
    "\n",
    "Train_D,Test_D,Fea=Load_DataSet()"
   ]
  },
  {
   "cell_type": "code",
   "execution_count": 3,
   "id": "4b2b6170",
   "metadata": {
    "ExecuteTime": {
     "end_time": "2023-02-16T05:53:29.008367Z",
     "start_time": "2023-02-16T05:53:13.263474Z"
    }
   },
   "outputs": [],
   "source": [
    "#对于定量特征重新转化数据类型，便于分析\n",
    "num_feature=['loanAmnt', 'term', 'interestRate', 'installment', 'employmentTitle', 'homeOwnership', 'annualIncome', 'purpose', 'regionCode', 'dti', 'ficoRangeLow', 'ficoRangeHigh', \n",
    "            'openAcc', 'revolBal', 'revolUtil', 'totalAcc', 'n1', 'n2', 'n3', 'n4', 'n5', 'n6', 'n7', 'n8', 'n9', 'n10', 'n14', 'employmentLength', 'issue_Time']\n",
    "\n",
    "for item in num_feature:\n",
    "    Train_D[item]=Train_D[item].astype(float)\n",
    "\n",
    "#把标签也转化为数字特征以便于分析\n",
    "Train_D['isDefault']=Train_D['isDefault'].astype(int)"
   ]
  },
  {
   "cell_type": "code",
   "execution_count": 4,
   "id": "6bf29e20",
   "metadata": {
    "ExecuteTime": {
     "end_time": "2023-02-16T05:53:29.737416Z",
     "start_time": "2023-02-16T05:53:29.010362Z"
    }
   },
   "outputs": [],
   "source": [
    "#这些特征属于定性特征，需要进行数值处理\n",
    "object_feature=['grade', 'subGrade', 'verificationStatus', 'initialListStatus']\n",
    "\n",
    "#前两个等级需要进行编码\n",
    "for item in ['grade', 'subGrade']:\n",
    "    Train_D[item]=Train_D[item].astype(str)\n",
    "    Test_D[item]=Test_D[item].astype(str)"
   ]
  },
  {
   "cell_type": "code",
   "execution_count": 5,
   "id": "5bc239d2",
   "metadata": {
    "ExecuteTime": {
     "end_time": "2023-02-16T05:53:29.783293Z",
     "start_time": "2023-02-16T05:53:29.739412Z"
    }
   },
   "outputs": [],
   "source": [
    "#grade类型具有等级区分，用数字进行标识\n",
    "for data in [Train_D,Test_D]:\n",
    "    data['grade']=data['grade'].map({'A':1,'B':2,'C':3,'D':4,'E':5,'F':6,'G':7})"
   ]
  },
  {
   "cell_type": "code",
   "execution_count": 6,
   "id": "046b20a7",
   "metadata": {
    "ExecuteTime": {
     "end_time": "2023-02-16T05:53:31.521646Z",
     "start_time": "2023-02-16T05:53:31.478759Z"
    }
   },
   "outputs": [
    {
     "data": {
      "text/html": [
       "<div>\n",
       "<style scoped>\n",
       "    .dataframe tbody tr th:only-of-type {\n",
       "        vertical-align: middle;\n",
       "    }\n",
       "\n",
       "    .dataframe tbody tr th {\n",
       "        vertical-align: top;\n",
       "    }\n",
       "\n",
       "    .dataframe thead th {\n",
       "        text-align: right;\n",
       "    }\n",
       "</style>\n",
       "<table border=\"1\" class=\"dataframe\">\n",
       "  <thead>\n",
       "    <tr style=\"text-align: right;\">\n",
       "      <th></th>\n",
       "      <th>loanAmnt</th>\n",
       "      <th>term</th>\n",
       "      <th>interestRate</th>\n",
       "      <th>installment</th>\n",
       "      <th>grade</th>\n",
       "      <th>subGrade</th>\n",
       "      <th>employmentTitle</th>\n",
       "      <th>employmentLength</th>\n",
       "      <th>homeOwnership</th>\n",
       "      <th>annualIncome</th>\n",
       "      <th>...</th>\n",
       "      <th>n3</th>\n",
       "      <th>n4</th>\n",
       "      <th>n5</th>\n",
       "      <th>n6</th>\n",
       "      <th>n7</th>\n",
       "      <th>n8</th>\n",
       "      <th>n9</th>\n",
       "      <th>n10</th>\n",
       "      <th>n14</th>\n",
       "      <th>issue_Time</th>\n",
       "    </tr>\n",
       "  </thead>\n",
       "  <tbody>\n",
       "    <tr>\n",
       "      <th>0</th>\n",
       "      <td>16000.0</td>\n",
       "      <td>3.0</td>\n",
       "      <td>6.03</td>\n",
       "      <td>486.97</td>\n",
       "      <td>1</td>\n",
       "      <td>A1</td>\n",
       "      <td>238797.0</td>\n",
       "      <td>10.0</td>\n",
       "      <td>0.0</td>\n",
       "      <td>12.409013</td>\n",
       "      <td>...</td>\n",
       "      <td>3.0</td>\n",
       "      <td>5.0</td>\n",
       "      <td>14.0</td>\n",
       "      <td>2.0</td>\n",
       "      <td>8.0</td>\n",
       "      <td>24.0</td>\n",
       "      <td>3.0</td>\n",
       "      <td>9.0</td>\n",
       "      <td>0.0</td>\n",
       "      <td>20.0</td>\n",
       "    </tr>\n",
       "    <tr>\n",
       "      <th>1</th>\n",
       "      <td>14000.0</td>\n",
       "      <td>5.0</td>\n",
       "      <td>12.99</td>\n",
       "      <td>318.48</td>\n",
       "      <td>2</td>\n",
       "      <td>B4</td>\n",
       "      <td>18826.0</td>\n",
       "      <td>10.0</td>\n",
       "      <td>0.0</td>\n",
       "      <td>12.206073</td>\n",
       "      <td>...</td>\n",
       "      <td>4.0</td>\n",
       "      <td>6.0</td>\n",
       "      <td>8.0</td>\n",
       "      <td>7.0</td>\n",
       "      <td>9.0</td>\n",
       "      <td>16.0</td>\n",
       "      <td>4.0</td>\n",
       "      <td>14.0</td>\n",
       "      <td>2.0</td>\n",
       "      <td>35.0</td>\n",
       "    </tr>\n",
       "    <tr>\n",
       "      <th>2</th>\n",
       "      <td>18250.0</td>\n",
       "      <td>3.0</td>\n",
       "      <td>11.49</td>\n",
       "      <td>601.73</td>\n",
       "      <td>2</td>\n",
       "      <td>B5</td>\n",
       "      <td>422.0</td>\n",
       "      <td>8.0</td>\n",
       "      <td>2.0</td>\n",
       "      <td>11.982929</td>\n",
       "      <td>...</td>\n",
       "      <td>12.0</td>\n",
       "      <td>7.0</td>\n",
       "      <td>7.0</td>\n",
       "      <td>1.0</td>\n",
       "      <td>16.0</td>\n",
       "      <td>22.0</td>\n",
       "      <td>13.0</td>\n",
       "      <td>16.0</td>\n",
       "      <td>4.0</td>\n",
       "      <td>29.0</td>\n",
       "    </tr>\n",
       "    <tr>\n",
       "      <th>3</th>\n",
       "      <td>8000.0</td>\n",
       "      <td>3.0</td>\n",
       "      <td>13.99</td>\n",
       "      <td>273.39</td>\n",
       "      <td>3</td>\n",
       "      <td>C4</td>\n",
       "      <td>29.0</td>\n",
       "      <td>10.0</td>\n",
       "      <td>1.0</td>\n",
       "      <td>11.952605</td>\n",
       "      <td>...</td>\n",
       "      <td>11.0</td>\n",
       "      <td>3.0</td>\n",
       "      <td>5.0</td>\n",
       "      <td>0.0</td>\n",
       "      <td>15.0</td>\n",
       "      <td>19.0</td>\n",
       "      <td>11.0</td>\n",
       "      <td>16.0</td>\n",
       "      <td>4.0</td>\n",
       "      <td>32.0</td>\n",
       "    </tr>\n",
       "    <tr>\n",
       "      <th>4</th>\n",
       "      <td>10200.0</td>\n",
       "      <td>5.0</td>\n",
       "      <td>13.18</td>\n",
       "      <td>233.03</td>\n",
       "      <td>3</td>\n",
       "      <td>C3</td>\n",
       "      <td>11289.0</td>\n",
       "      <td>10.0</td>\n",
       "      <td>0.0</td>\n",
       "      <td>11.835009</td>\n",
       "      <td>...</td>\n",
       "      <td>11.0</td>\n",
       "      <td>1.0</td>\n",
       "      <td>6.0</td>\n",
       "      <td>1.0</td>\n",
       "      <td>11.0</td>\n",
       "      <td>18.0</td>\n",
       "      <td>11.0</td>\n",
       "      <td>14.0</td>\n",
       "      <td>2.0</td>\n",
       "      <td>11.0</td>\n",
       "    </tr>\n",
       "  </tbody>\n",
       "</table>\n",
       "<p>5 rows × 35 columns</p>\n",
       "</div>"
      ],
      "text/plain": [
       "   loanAmnt  term  interestRate  installment  grade subGrade  employmentTitle  \\\n",
       "0   16000.0   3.0          6.03       486.97      1       A1         238797.0   \n",
       "1   14000.0   5.0         12.99       318.48      2       B4          18826.0   \n",
       "2   18250.0   3.0         11.49       601.73      2       B5            422.0   \n",
       "3    8000.0   3.0         13.99       273.39      3       C4             29.0   \n",
       "4   10200.0   5.0         13.18       233.03      3       C3          11289.0   \n",
       "\n",
       "   employmentLength  homeOwnership  annualIncome  ...    n3   n4    n5   n6  \\\n",
       "0              10.0            0.0     12.409013  ...   3.0  5.0  14.0  2.0   \n",
       "1              10.0            0.0     12.206073  ...   4.0  6.0   8.0  7.0   \n",
       "2               8.0            2.0     11.982929  ...  12.0  7.0   7.0  1.0   \n",
       "3              10.0            1.0     11.952605  ...  11.0  3.0   5.0  0.0   \n",
       "4              10.0            0.0     11.835009  ...  11.0  1.0   6.0  1.0   \n",
       "\n",
       "     n7    n8    n9   n10  n14  issue_Time  \n",
       "0   8.0  24.0   3.0   9.0  0.0        20.0  \n",
       "1   9.0  16.0   4.0  14.0  2.0        35.0  \n",
       "2  16.0  22.0  13.0  16.0  4.0        29.0  \n",
       "3  15.0  19.0  11.0  16.0  4.0        32.0  \n",
       "4  11.0  18.0  11.0  14.0  2.0        11.0  \n",
       "\n",
       "[5 rows x 35 columns]"
      ]
     },
     "execution_count": 6,
     "metadata": {},
     "output_type": "execute_result"
    }
   ],
   "source": [
    "Train_D.head()"
   ]
  },
  {
   "cell_type": "code",
   "execution_count": 7,
   "id": "07665b65",
   "metadata": {
    "ExecuteTime": {
     "end_time": "2023-02-16T05:53:35.657623Z",
     "start_time": "2023-02-16T05:53:35.278638Z"
    }
   },
   "outputs": [],
   "source": [
    "#subGrade采用ASCII码\n",
    "for data in [Train_D,Test_D]:\n",
    "    data['subGrade']=data['subGrade'].map(lambda x:ord(x[0])*100+int(x[1]))"
   ]
  },
  {
   "cell_type": "code",
   "execution_count": 8,
   "id": "4253b493",
   "metadata": {
    "ExecuteTime": {
     "end_time": "2023-02-16T05:53:36.218126Z",
     "start_time": "2023-02-16T05:53:36.197181Z"
    }
   },
   "outputs": [
    {
     "data": {
      "text/html": [
       "<div>\n",
       "<style scoped>\n",
       "    .dataframe tbody tr th:only-of-type {\n",
       "        vertical-align: middle;\n",
       "    }\n",
       "\n",
       "    .dataframe tbody tr th {\n",
       "        vertical-align: top;\n",
       "    }\n",
       "\n",
       "    .dataframe thead th {\n",
       "        text-align: right;\n",
       "    }\n",
       "</style>\n",
       "<table border=\"1\" class=\"dataframe\">\n",
       "  <thead>\n",
       "    <tr style=\"text-align: right;\">\n",
       "      <th></th>\n",
       "      <th>loanAmnt</th>\n",
       "      <th>term</th>\n",
       "      <th>interestRate</th>\n",
       "      <th>installment</th>\n",
       "      <th>grade</th>\n",
       "      <th>subGrade</th>\n",
       "      <th>employmentTitle</th>\n",
       "      <th>employmentLength</th>\n",
       "      <th>homeOwnership</th>\n",
       "      <th>annualIncome</th>\n",
       "      <th>...</th>\n",
       "      <th>n3</th>\n",
       "      <th>n4</th>\n",
       "      <th>n5</th>\n",
       "      <th>n6</th>\n",
       "      <th>n7</th>\n",
       "      <th>n8</th>\n",
       "      <th>n9</th>\n",
       "      <th>n10</th>\n",
       "      <th>n14</th>\n",
       "      <th>issue_Time</th>\n",
       "    </tr>\n",
       "  </thead>\n",
       "  <tbody>\n",
       "    <tr>\n",
       "      <th>0</th>\n",
       "      <td>16000.0</td>\n",
       "      <td>3.0</td>\n",
       "      <td>6.03</td>\n",
       "      <td>486.97</td>\n",
       "      <td>1</td>\n",
       "      <td>6501</td>\n",
       "      <td>238797.0</td>\n",
       "      <td>10.0</td>\n",
       "      <td>0.0</td>\n",
       "      <td>12.409013</td>\n",
       "      <td>...</td>\n",
       "      <td>3.0</td>\n",
       "      <td>5.0</td>\n",
       "      <td>14.0</td>\n",
       "      <td>2.0</td>\n",
       "      <td>8.0</td>\n",
       "      <td>24.0</td>\n",
       "      <td>3.0</td>\n",
       "      <td>9.0</td>\n",
       "      <td>0.0</td>\n",
       "      <td>20.0</td>\n",
       "    </tr>\n",
       "    <tr>\n",
       "      <th>1</th>\n",
       "      <td>14000.0</td>\n",
       "      <td>5.0</td>\n",
       "      <td>12.99</td>\n",
       "      <td>318.48</td>\n",
       "      <td>2</td>\n",
       "      <td>6604</td>\n",
       "      <td>18826.0</td>\n",
       "      <td>10.0</td>\n",
       "      <td>0.0</td>\n",
       "      <td>12.206073</td>\n",
       "      <td>...</td>\n",
       "      <td>4.0</td>\n",
       "      <td>6.0</td>\n",
       "      <td>8.0</td>\n",
       "      <td>7.0</td>\n",
       "      <td>9.0</td>\n",
       "      <td>16.0</td>\n",
       "      <td>4.0</td>\n",
       "      <td>14.0</td>\n",
       "      <td>2.0</td>\n",
       "      <td>35.0</td>\n",
       "    </tr>\n",
       "    <tr>\n",
       "      <th>2</th>\n",
       "      <td>18250.0</td>\n",
       "      <td>3.0</td>\n",
       "      <td>11.49</td>\n",
       "      <td>601.73</td>\n",
       "      <td>2</td>\n",
       "      <td>6605</td>\n",
       "      <td>422.0</td>\n",
       "      <td>8.0</td>\n",
       "      <td>2.0</td>\n",
       "      <td>11.982929</td>\n",
       "      <td>...</td>\n",
       "      <td>12.0</td>\n",
       "      <td>7.0</td>\n",
       "      <td>7.0</td>\n",
       "      <td>1.0</td>\n",
       "      <td>16.0</td>\n",
       "      <td>22.0</td>\n",
       "      <td>13.0</td>\n",
       "      <td>16.0</td>\n",
       "      <td>4.0</td>\n",
       "      <td>29.0</td>\n",
       "    </tr>\n",
       "    <tr>\n",
       "      <th>3</th>\n",
       "      <td>8000.0</td>\n",
       "      <td>3.0</td>\n",
       "      <td>13.99</td>\n",
       "      <td>273.39</td>\n",
       "      <td>3</td>\n",
       "      <td>6704</td>\n",
       "      <td>29.0</td>\n",
       "      <td>10.0</td>\n",
       "      <td>1.0</td>\n",
       "      <td>11.952605</td>\n",
       "      <td>...</td>\n",
       "      <td>11.0</td>\n",
       "      <td>3.0</td>\n",
       "      <td>5.0</td>\n",
       "      <td>0.0</td>\n",
       "      <td>15.0</td>\n",
       "      <td>19.0</td>\n",
       "      <td>11.0</td>\n",
       "      <td>16.0</td>\n",
       "      <td>4.0</td>\n",
       "      <td>32.0</td>\n",
       "    </tr>\n",
       "    <tr>\n",
       "      <th>4</th>\n",
       "      <td>10200.0</td>\n",
       "      <td>5.0</td>\n",
       "      <td>13.18</td>\n",
       "      <td>233.03</td>\n",
       "      <td>3</td>\n",
       "      <td>6703</td>\n",
       "      <td>11289.0</td>\n",
       "      <td>10.0</td>\n",
       "      <td>0.0</td>\n",
       "      <td>11.835009</td>\n",
       "      <td>...</td>\n",
       "      <td>11.0</td>\n",
       "      <td>1.0</td>\n",
       "      <td>6.0</td>\n",
       "      <td>1.0</td>\n",
       "      <td>11.0</td>\n",
       "      <td>18.0</td>\n",
       "      <td>11.0</td>\n",
       "      <td>14.0</td>\n",
       "      <td>2.0</td>\n",
       "      <td>11.0</td>\n",
       "    </tr>\n",
       "  </tbody>\n",
       "</table>\n",
       "<p>5 rows × 35 columns</p>\n",
       "</div>"
      ],
      "text/plain": [
       "   loanAmnt  term  interestRate  installment  grade  subGrade  \\\n",
       "0   16000.0   3.0          6.03       486.97      1      6501   \n",
       "1   14000.0   5.0         12.99       318.48      2      6604   \n",
       "2   18250.0   3.0         11.49       601.73      2      6605   \n",
       "3    8000.0   3.0         13.99       273.39      3      6704   \n",
       "4   10200.0   5.0         13.18       233.03      3      6703   \n",
       "\n",
       "   employmentTitle  employmentLength  homeOwnership  annualIncome  ...    n3  \\\n",
       "0         238797.0              10.0            0.0     12.409013  ...   3.0   \n",
       "1          18826.0              10.0            0.0     12.206073  ...   4.0   \n",
       "2            422.0               8.0            2.0     11.982929  ...  12.0   \n",
       "3             29.0              10.0            1.0     11.952605  ...  11.0   \n",
       "4          11289.0              10.0            0.0     11.835009  ...  11.0   \n",
       "\n",
       "    n4    n5   n6    n7    n8    n9   n10  n14  issue_Time  \n",
       "0  5.0  14.0  2.0   8.0  24.0   3.0   9.0  0.0        20.0  \n",
       "1  6.0   8.0  7.0   9.0  16.0   4.0  14.0  2.0        35.0  \n",
       "2  7.0   7.0  1.0  16.0  22.0  13.0  16.0  4.0        29.0  \n",
       "3  3.0   5.0  0.0  15.0  19.0  11.0  16.0  4.0        32.0  \n",
       "4  1.0   6.0  1.0  11.0  18.0  11.0  14.0  2.0        11.0  \n",
       "\n",
       "[5 rows x 35 columns]"
      ]
     },
     "execution_count": 8,
     "metadata": {},
     "output_type": "execute_result"
    }
   ],
   "source": [
    "#查看编码之后的数据\n",
    "Train_D.head()"
   ]
  },
  {
   "cell_type": "code",
   "execution_count": 9,
   "id": "5f9a786c",
   "metadata": {
    "ExecuteTime": {
     "end_time": "2023-02-16T05:53:38.921113Z",
     "start_time": "2023-02-16T05:53:38.269855Z"
    }
   },
   "outputs": [],
   "source": [
    "#自己定义一个新的用于DF类型的标准化转换器\n",
    "#fit实现思路：类中包含一个字典，字典中为每个需要转化的特征训练一个标准化的模型\n",
    "#transform实现思路，对输入的DF数据进行转化\n",
    "import sklearn\n",
    "class num_stander:\n",
    "    def __init__(self,fealist=[]):\n",
    "        self.trans={}\n",
    "        self.fea=fealist\n",
    "        \n",
    "    def fit(self,DF):\n",
    "        for item in self.fea:\n",
    "            self.trans[item]=sklearn.preprocessing.StandardScaler()\n",
    "            self.trans[item].fit(np.array(DF[item]).reshape(-1,1))\n",
    "    \n",
    "    def transform(self,DF):\n",
    "        for item in self.fea:\n",
    "            DF[item]=self.trans[item].transform(np.array(DF[item]).reshape(-1,1))\n",
    "        return DF   \n",
    "    \n",
    "contious_fea=['loanAmnt', 'interestRate', 'installment', 'employmentTitle', 'annualIncome', \n",
    "              'purpose', 'postCode', 'regionCode', 'dti', 'ficoRangeLow', 'ficoRangeHigh', 'openAcc',\n",
    "              'revolBal', 'revolUtil', 'totalAcc', 'n1', 'n2', 'n3', 'n4', 'n5', 'n6', 'n7', 'n8', 'n9', \n",
    "              'n10', 'n14', 'employmentLength', 'issue_Time']\n",
    "\n",
    "transformer=num_stander(contious_fea)\n",
    "transformer.fit(Train_D)\n",
    "Train_D=transformer.transform(Train_D)"
   ]
  },
  {
   "cell_type": "code",
   "execution_count": 10,
   "id": "48d56207",
   "metadata": {
    "ExecuteTime": {
     "end_time": "2023-02-16T05:53:53.713951Z",
     "start_time": "2023-02-16T05:53:53.693008Z"
    }
   },
   "outputs": [
    {
     "data": {
      "text/html": [
       "<div>\n",
       "<style scoped>\n",
       "    .dataframe tbody tr th:only-of-type {\n",
       "        vertical-align: middle;\n",
       "    }\n",
       "\n",
       "    .dataframe tbody tr th {\n",
       "        vertical-align: top;\n",
       "    }\n",
       "\n",
       "    .dataframe thead th {\n",
       "        text-align: right;\n",
       "    }\n",
       "</style>\n",
       "<table border=\"1\" class=\"dataframe\">\n",
       "  <thead>\n",
       "    <tr style=\"text-align: right;\">\n",
       "      <th></th>\n",
       "      <th>loanAmnt</th>\n",
       "      <th>term</th>\n",
       "      <th>interestRate</th>\n",
       "      <th>installment</th>\n",
       "      <th>grade</th>\n",
       "      <th>subGrade</th>\n",
       "      <th>employmentTitle</th>\n",
       "      <th>employmentLength</th>\n",
       "      <th>homeOwnership</th>\n",
       "      <th>annualIncome</th>\n",
       "      <th>...</th>\n",
       "      <th>n3</th>\n",
       "      <th>n4</th>\n",
       "      <th>n5</th>\n",
       "      <th>n6</th>\n",
       "      <th>n7</th>\n",
       "      <th>n8</th>\n",
       "      <th>n9</th>\n",
       "      <th>n10</th>\n",
       "      <th>n14</th>\n",
       "      <th>issue_Time</th>\n",
       "    </tr>\n",
       "  </thead>\n",
       "  <tbody>\n",
       "    <tr>\n",
       "      <th>0</th>\n",
       "      <td>0.181753</td>\n",
       "      <td>3.0</td>\n",
       "      <td>-1.512481</td>\n",
       "      <td>0.187606</td>\n",
       "      <td>1</td>\n",
       "      <td>6501</td>\n",
       "      <td>1.565560</td>\n",
       "      <td>1.093500</td>\n",
       "      <td>0.0</td>\n",
       "      <td>1.577815</td>\n",
       "      <td>...</td>\n",
       "      <td>-0.800067</td>\n",
       "      <td>0.090783</td>\n",
       "      <td>1.227878</td>\n",
       "      <td>-0.887792</td>\n",
       "      <td>-0.062141</td>\n",
       "      <td>1.154775</td>\n",
       "      <td>-0.806101</td>\n",
       "      <td>-0.481960</td>\n",
       "      <td>-1.181935</td>\n",
       "      <td>0.494907</td>\n",
       "    </tr>\n",
       "    <tr>\n",
       "      <th>1</th>\n",
       "      <td>-0.047804</td>\n",
       "      <td>5.0</td>\n",
       "      <td>-0.052012</td>\n",
       "      <td>-0.457116</td>\n",
       "      <td>2</td>\n",
       "      <td>6604</td>\n",
       "      <td>-0.498917</td>\n",
       "      <td>1.093500</td>\n",
       "      <td>0.0</td>\n",
       "      <td>0.691778</td>\n",
       "      <td>...</td>\n",
       "      <td>-0.497452</td>\n",
       "      <td>0.430168</td>\n",
       "      <td>-0.022254</td>\n",
       "      <td>-0.212082</td>\n",
       "      <td>0.157108</td>\n",
       "      <td>0.169838</td>\n",
       "      <td>-0.495328</td>\n",
       "      <td>0.430488</td>\n",
       "      <td>-0.096228</td>\n",
       "      <td>2.492120</td>\n",
       "    </tr>\n",
       "    <tr>\n",
       "      <th>2</th>\n",
       "      <td>0.440004</td>\n",
       "      <td>3.0</td>\n",
       "      <td>-0.366769</td>\n",
       "      <td>0.626733</td>\n",
       "      <td>2</td>\n",
       "      <td>6605</td>\n",
       "      <td>-0.671643</td>\n",
       "      <td>0.551604</td>\n",
       "      <td>2.0</td>\n",
       "      <td>-0.282464</td>\n",
       "      <td>...</td>\n",
       "      <td>1.923468</td>\n",
       "      <td>0.769553</td>\n",
       "      <td>-0.230609</td>\n",
       "      <td>-1.022934</td>\n",
       "      <td>1.691849</td>\n",
       "      <td>0.908540</td>\n",
       "      <td>2.301635</td>\n",
       "      <td>0.795467</td>\n",
       "      <td>0.989478</td>\n",
       "      <td>1.693235</td>\n",
       "    </tr>\n",
       "    <tr>\n",
       "      <th>3</th>\n",
       "      <td>-0.736473</td>\n",
       "      <td>3.0</td>\n",
       "      <td>0.157825</td>\n",
       "      <td>-0.629652</td>\n",
       "      <td>3</td>\n",
       "      <td>6704</td>\n",
       "      <td>-0.675332</td>\n",
       "      <td>1.093500</td>\n",
       "      <td>1.0</td>\n",
       "      <td>-0.414858</td>\n",
       "      <td>...</td>\n",
       "      <td>1.620853</td>\n",
       "      <td>-0.587987</td>\n",
       "      <td>-0.647320</td>\n",
       "      <td>-1.158075</td>\n",
       "      <td>1.472600</td>\n",
       "      <td>0.539189</td>\n",
       "      <td>1.680088</td>\n",
       "      <td>0.795467</td>\n",
       "      <td>0.989478</td>\n",
       "      <td>2.092678</td>\n",
       "    </tr>\n",
       "    <tr>\n",
       "      <th>4</th>\n",
       "      <td>-0.483961</td>\n",
       "      <td>5.0</td>\n",
       "      <td>-0.012143</td>\n",
       "      <td>-0.784089</td>\n",
       "      <td>3</td>\n",
       "      <td>6703</td>\n",
       "      <td>-0.569654</td>\n",
       "      <td>1.093500</td>\n",
       "      <td>0.0</td>\n",
       "      <td>-0.928281</td>\n",
       "      <td>...</td>\n",
       "      <td>1.620853</td>\n",
       "      <td>-1.266757</td>\n",
       "      <td>-0.438964</td>\n",
       "      <td>-1.022934</td>\n",
       "      <td>0.595606</td>\n",
       "      <td>0.416072</td>\n",
       "      <td>1.680088</td>\n",
       "      <td>0.430488</td>\n",
       "      <td>-0.096228</td>\n",
       "      <td>-0.703421</td>\n",
       "    </tr>\n",
       "  </tbody>\n",
       "</table>\n",
       "<p>5 rows × 35 columns</p>\n",
       "</div>"
      ],
      "text/plain": [
       "   loanAmnt  term  interestRate  installment  grade  subGrade  \\\n",
       "0  0.181753   3.0     -1.512481     0.187606      1      6501   \n",
       "1 -0.047804   5.0     -0.052012    -0.457116      2      6604   \n",
       "2  0.440004   3.0     -0.366769     0.626733      2      6605   \n",
       "3 -0.736473   3.0      0.157825    -0.629652      3      6704   \n",
       "4 -0.483961   5.0     -0.012143    -0.784089      3      6703   \n",
       "\n",
       "   employmentTitle  employmentLength  homeOwnership  annualIncome  ...  \\\n",
       "0         1.565560          1.093500            0.0      1.577815  ...   \n",
       "1        -0.498917          1.093500            0.0      0.691778  ...   \n",
       "2        -0.671643          0.551604            2.0     -0.282464  ...   \n",
       "3        -0.675332          1.093500            1.0     -0.414858  ...   \n",
       "4        -0.569654          1.093500            0.0     -0.928281  ...   \n",
       "\n",
       "         n3        n4        n5        n6        n7        n8        n9  \\\n",
       "0 -0.800067  0.090783  1.227878 -0.887792 -0.062141  1.154775 -0.806101   \n",
       "1 -0.497452  0.430168 -0.022254 -0.212082  0.157108  0.169838 -0.495328   \n",
       "2  1.923468  0.769553 -0.230609 -1.022934  1.691849  0.908540  2.301635   \n",
       "3  1.620853 -0.587987 -0.647320 -1.158075  1.472600  0.539189  1.680088   \n",
       "4  1.620853 -1.266757 -0.438964 -1.022934  0.595606  0.416072  1.680088   \n",
       "\n",
       "        n10       n14  issue_Time  \n",
       "0 -0.481960 -1.181935    0.494907  \n",
       "1  0.430488 -0.096228    2.492120  \n",
       "2  0.795467  0.989478    1.693235  \n",
       "3  0.795467  0.989478    2.092678  \n",
       "4  0.430488 -0.096228   -0.703421  \n",
       "\n",
       "[5 rows x 35 columns]"
      ]
     },
     "execution_count": 10,
     "metadata": {},
     "output_type": "execute_result"
    }
   ],
   "source": [
    "Train_D.head()"
   ]
  },
  {
   "cell_type": "code",
   "execution_count": 11,
   "id": "a12f6e91",
   "metadata": {
    "ExecuteTime": {
     "end_time": "2023-02-16T05:54:15.619459Z",
     "start_time": "2023-02-16T05:54:14.739733Z"
    }
   },
   "outputs": [],
   "source": [
    "#剔除训练数据中连续变量的异常值,针对符合正态分布的变量\n",
    "n_list=['revolBal','annualIncome','revolUtil','issue_Time','totalAcc']\n",
    "means={}\n",
    "stds={}\n",
    "for item in n_list:\n",
    "    temp_data=Train_D[item]\n",
    "    means[item]=temp_data.mean()\n",
    "    stds[item]=temp_data.std()\n",
    "    \n",
    "for item in n_list:\n",
    "    mean=means[item]\n",
    "    std=stds[item]\n",
    "    temp_data=Train_D[item]\n",
    "    bidx=(temp_data<mean-3*std)|(mean+3*std<temp_data)\n",
    "    idx=np.arange(len(Train_D))[bidx]\n",
    "    Train_D.drop(index=idx,inplace=True)\n",
    "    Train_D.reset_index(drop=True,inplace=True)\n",
    "    "
   ]
  },
  {
   "cell_type": "code",
   "execution_count": 12,
   "id": "969b52c3",
   "metadata": {
    "ExecuteTime": {
     "end_time": "2023-02-16T05:54:35.625813Z",
     "start_time": "2023-02-16T05:54:33.028762Z"
    }
   },
   "outputs": [
    {
     "data": {
      "text/plain": [
       "(608652, 34)"
      ]
     },
     "execution_count": 12,
     "metadata": {},
     "output_type": "execute_result"
    }
   ],
   "source": [
    "#构造训练数据\n",
    "x_train_s=np.array(Train_D.drop(columns=['isDefault']))\n",
    "y_train=np.array(Train_D['isDefault']).astype(int)\n",
    "x_test_s=np.array(Test_D.drop(columns=['isDefault']))\n",
    "y_test=np.array(Test_D['isDefault']).astype(int)\n",
    "\n",
    "np.shape(x_train_s)"
   ]
  },
  {
   "cell_type": "code",
   "execution_count": 14,
   "id": "290b94f3",
   "metadata": {
    "ExecuteTime": {
     "end_time": "2023-02-16T05:55:35.392191Z",
     "start_time": "2023-02-16T05:55:16.652316Z"
    }
   },
   "outputs": [
    {
     "data": {
      "text/plain": [
       "array([0.02444125, 0.00583721, 0.03535656, 0.04505056, 0.01086611,\n",
       "       0.06943945, 0.05993581, 0.02469335, 0.00876208, 0.05170218,\n",
       "       0.01024904, 0.01445359, 0.05891078, 0.04065312, 0.06499352,\n",
       "       0.01748755, 0.01786349, 0.01841197, 0.05884362, 0.05624955,\n",
       "       0.03560242, 0.00588026, 0.01816009, 0.01086969, 0.01082815,\n",
       "       0.01969326, 0.02712251, 0.03388833, 0.02060336, 0.02934708,\n",
       "       0.01315689, 0.01909014, 0.02130078, 0.04025624])"
      ]
     },
     "execution_count": 14,
     "metadata": {},
     "output_type": "execute_result"
    }
   ],
   "source": [
    "#selectFromModel方法选择特征\n",
    "from sklearn.feature_selection import SelectFromModel\n",
    "from sklearn.tree import DecisionTreeClassifier\n",
    "select_Trans=SelectFromModel(DecisionTreeClassifier(),threshold=0.015)\n",
    "select_Trans.fit(x_train_s,y_train)\n",
    "\n",
    "#查看阈值情况\n",
    "select_Trans.estimator_.feature_importances_"
   ]
  },
  {
   "cell_type": "code",
   "execution_count": 44,
   "id": "1e6ff204",
   "metadata": {
    "ExecuteTime": {
     "end_time": "2023-02-16T06:00:43.976034Z",
     "start_time": "2023-02-16T06:00:42.780233Z"
    }
   },
   "outputs": [
    {
     "data": {
      "text/plain": [
       "(608652, 31)"
      ]
     },
     "execution_count": 44,
     "metadata": {},
     "output_type": "execute_result"
    }
   ],
   "source": [
    "select_Trans.threshold=0.01\n",
    "x_train=select_Trans.transform(x_train_s)\n",
    "x_test=select_Trans.transform(x_test_s)\n",
    "np.shape(x_train)"
   ]
  },
  {
   "cell_type": "code",
   "execution_count": 45,
   "id": "48d60b91",
   "metadata": {
    "ExecuteTime": {
     "end_time": "2023-02-16T06:00:59.893967Z",
     "start_time": "2023-02-16T06:00:44.516588Z"
    }
   },
   "outputs": [
    {
     "data": {
      "text/html": [
       "<style>#sk-container-id-7 {color: black;background-color: white;}#sk-container-id-7 pre{padding: 0;}#sk-container-id-7 div.sk-toggleable {background-color: white;}#sk-container-id-7 label.sk-toggleable__label {cursor: pointer;display: block;width: 100%;margin-bottom: 0;padding: 0.3em;box-sizing: border-box;text-align: center;}#sk-container-id-7 label.sk-toggleable__label-arrow:before {content: \"▸\";float: left;margin-right: 0.25em;color: #696969;}#sk-container-id-7 label.sk-toggleable__label-arrow:hover:before {color: black;}#sk-container-id-7 div.sk-estimator:hover label.sk-toggleable__label-arrow:before {color: black;}#sk-container-id-7 div.sk-toggleable__content {max-height: 0;max-width: 0;overflow: hidden;text-align: left;background-color: #f0f8ff;}#sk-container-id-7 div.sk-toggleable__content pre {margin: 0.2em;color: black;border-radius: 0.25em;background-color: #f0f8ff;}#sk-container-id-7 input.sk-toggleable__control:checked~div.sk-toggleable__content {max-height: 200px;max-width: 100%;overflow: auto;}#sk-container-id-7 input.sk-toggleable__control:checked~label.sk-toggleable__label-arrow:before {content: \"▾\";}#sk-container-id-7 div.sk-estimator input.sk-toggleable__control:checked~label.sk-toggleable__label {background-color: #d4ebff;}#sk-container-id-7 div.sk-label input.sk-toggleable__control:checked~label.sk-toggleable__label {background-color: #d4ebff;}#sk-container-id-7 input.sk-hidden--visually {border: 0;clip: rect(1px 1px 1px 1px);clip: rect(1px, 1px, 1px, 1px);height: 1px;margin: -1px;overflow: hidden;padding: 0;position: absolute;width: 1px;}#sk-container-id-7 div.sk-estimator {font-family: monospace;background-color: #f0f8ff;border: 1px dotted black;border-radius: 0.25em;box-sizing: border-box;margin-bottom: 0.5em;}#sk-container-id-7 div.sk-estimator:hover {background-color: #d4ebff;}#sk-container-id-7 div.sk-parallel-item::after {content: \"\";width: 100%;border-bottom: 1px solid gray;flex-grow: 1;}#sk-container-id-7 div.sk-label:hover label.sk-toggleable__label {background-color: #d4ebff;}#sk-container-id-7 div.sk-serial::before {content: \"\";position: absolute;border-left: 1px solid gray;box-sizing: border-box;top: 0;bottom: 0;left: 50%;z-index: 0;}#sk-container-id-7 div.sk-serial {display: flex;flex-direction: column;align-items: center;background-color: white;padding-right: 0.2em;padding-left: 0.2em;position: relative;}#sk-container-id-7 div.sk-item {position: relative;z-index: 1;}#sk-container-id-7 div.sk-parallel {display: flex;align-items: stretch;justify-content: center;background-color: white;position: relative;}#sk-container-id-7 div.sk-item::before, #sk-container-id-7 div.sk-parallel-item::before {content: \"\";position: absolute;border-left: 1px solid gray;box-sizing: border-box;top: 0;bottom: 0;left: 50%;z-index: -1;}#sk-container-id-7 div.sk-parallel-item {display: flex;flex-direction: column;z-index: 1;position: relative;background-color: white;}#sk-container-id-7 div.sk-parallel-item:first-child::after {align-self: flex-end;width: 50%;}#sk-container-id-7 div.sk-parallel-item:last-child::after {align-self: flex-start;width: 50%;}#sk-container-id-7 div.sk-parallel-item:only-child::after {width: 0;}#sk-container-id-7 div.sk-dashed-wrapped {border: 1px dashed gray;margin: 0 0.4em 0.5em 0.4em;box-sizing: border-box;padding-bottom: 0.4em;background-color: white;}#sk-container-id-7 div.sk-label label {font-family: monospace;font-weight: bold;display: inline-block;line-height: 1.2em;}#sk-container-id-7 div.sk-label-container {text-align: center;}#sk-container-id-7 div.sk-container {/* jupyter's `normalize.less` sets `[hidden] { display: none; }` but bootstrap.min.css set `[hidden] { display: none !important; }` so we also need the `!important` here to be able to override the default hidden behavior on the sphinx rendered scikit-learn.org. See: https://github.com/scikit-learn/scikit-learn/issues/21755 */display: inline-block !important;position: relative;}#sk-container-id-7 div.sk-text-repr-fallback {display: none;}</style><div id=\"sk-container-id-7\" class=\"sk-top-container\"><div class=\"sk-text-repr-fallback\"><pre>LGBMClassifier(max_depth=10, n_estimators=500)</pre><b>In a Jupyter environment, please rerun this cell to show the HTML representation or trust the notebook. <br />On GitHub, the HTML representation is unable to render, please try loading this page with nbviewer.org.</b></div><div class=\"sk-container\" hidden><div class=\"sk-item\"><div class=\"sk-estimator sk-toggleable\"><input class=\"sk-toggleable__control sk-hidden--visually\" id=\"sk-estimator-id-7\" type=\"checkbox\" checked><label for=\"sk-estimator-id-7\" class=\"sk-toggleable__label sk-toggleable__label-arrow\">LGBMClassifier</label><div class=\"sk-toggleable__content\"><pre>LGBMClassifier(max_depth=10, n_estimators=500)</pre></div></div></div></div></div>"
      ],
      "text/plain": [
       "LGBMClassifier(max_depth=10, n_estimators=500)"
      ]
     },
     "execution_count": 45,
     "metadata": {},
     "output_type": "execute_result"
    }
   ],
   "source": [
    "#训练LGBM模型\n",
    "from lightgbm.sklearn import LGBMClassifier\n",
    "LGBM=LGBMClassifier(max_depth=10,n_estimators=500)\n",
    "LGBM.fit(x_train,y_train)"
   ]
  },
  {
   "cell_type": "code",
   "execution_count": 46,
   "id": "a6e77301",
   "metadata": {
    "ExecuteTime": {
     "end_time": "2023-02-16T06:01:05.241953Z",
     "start_time": "2023-02-16T06:01:00.555456Z"
    }
   },
   "outputs": [
    {
     "name": "stdout",
     "output_type": "stream",
     "text": [
      "准确率: 0.8104039746850417\n",
      "召回率: 0.10732150605418062\n"
     ]
    }
   ],
   "source": [
    "#查看模型在训练集上的性能\n",
    "from sklearn.metrics import accuracy_score\n",
    "from sklearn.metrics import recall_score\n",
    "y_train_pred=LGBM.predict(x_train)\n",
    "print('准确率:',accuracy_score(y_true=y_train,y_pred=y_train_pred))\n",
    "print('召回率:',recall_score(y_train,y_train_pred,pos_label=1))"
   ]
  },
  {
   "cell_type": "code",
   "execution_count": 47,
   "id": "99c0565a",
   "metadata": {
    "ExecuteTime": {
     "end_time": "2023-02-16T06:01:07.285456Z",
     "start_time": "2023-02-16T06:01:05.979948Z"
    }
   },
   "outputs": [
    {
     "name": "stdout",
     "output_type": "stream",
     "text": [
      "准确率: 0.71970625\n",
      "召回率: 0.2586858123926955\n"
     ]
    }
   ],
   "source": [
    "#查看测试集上的准确率和召回率\n",
    "from sklearn.metrics import accuracy_score\n",
    "from sklearn.metrics import recall_score\n",
    "y_test_pred=LGBM.predict(x_test)\n",
    "print('准确率:',accuracy_score(y_true=y_test,y_pred=y_test_pred))\n",
    "print('召回率:',recall_score(y_test,y_test_pred,pos_label=1))"
   ]
  },
  {
   "cell_type": "code",
   "execution_count": 48,
   "id": "bf010db4",
   "metadata": {
    "ExecuteTime": {
     "end_time": "2023-02-16T06:01:11.582156Z",
     "start_time": "2023-02-16T06:01:10.481100Z"
    }
   },
   "outputs": [
    {
     "name": "stdout",
     "output_type": "stream",
     "text": [
      "[0.33397622 0.43502364 0.51882455 ... 0.1497255  0.19685734 0.23330998]\n"
     ]
    }
   ],
   "source": [
    "y_test_prob=LGBM.predict_proba(x_test)[:,1]\n",
    "print(y_test_prob)"
   ]
  },
  {
   "cell_type": "code",
   "execution_count": 55,
   "id": "295c31b8",
   "metadata": {
    "ExecuteTime": {
     "end_time": "2023-02-16T06:02:33.039859Z",
     "start_time": "2023-02-16T06:02:32.971044Z"
    }
   },
   "outputs": [
    {
     "name": "stdout",
     "output_type": "stream",
     "text": [
      "0.61424375\n",
      "0.5242078976119869\n"
     ]
    }
   ],
   "source": [
    "#调整阈值\n",
    "thresh=0.35\n",
    "y_test_pred=(y_test_prob>=thresh)\n",
    "y_test_pred=y_test_pred.astype(int)\n",
    "print(accuracy_score(y_true=y_test,y_pred=y_test_pred))\n",
    "print(recall_score(y_true=y_test,y_pred=y_test_pred))"
   ]
  },
  {
   "cell_type": "code",
   "execution_count": 56,
   "id": "0b5d08e3",
   "metadata": {
    "ExecuteTime": {
     "end_time": "2023-02-16T06:02:34.126030Z",
     "start_time": "2023-02-16T06:02:33.916592Z"
    }
   },
   "outputs": [
    {
     "data": {
      "text/plain": [
       "<sklearn.metrics._plot.roc_curve.RocCurveDisplay at 0x1aa0938e260>"
      ]
     },
     "execution_count": 56,
     "metadata": {},
     "output_type": "execute_result"
    },
    {
     "data": {
      "image/png": "[encoded data removed]",
      "text/plain": [
       "<Figure size 640x480 with 1 Axes>"
      ]
     },
     "metadata": {},
     "output_type": "display_data"
    }
   ],
   "source": [
    "from sklearn.metrics import RocCurveDisplay\n",
    "from sklearn.metrics import roc_curve\n",
    "from sklearn.metrics import roc_auc_score\n",
    "fpr,tpr,thres=roc_curve(y_true=y_test,y_score=y_test_prob,pos_label=1)\n",
    "RocCurveDisplay(fpr=fpr,tpr=tpr,roc_auc=roc_auc_score(y_test,y_test_prob)).plot()"
   ]
  },
  {
   "cell_type": "code",
   "execution_count": 35,
   "id": "cde653bd",
   "metadata": {},
   "outputs": [
    {
     "data": {
      "text/plain": [
       "['Transformer.pkl']"
      ]
     },
     "execution_count": 35,
     "metadata": {},
     "output_type": "execute_result"
    }
   ],
   "source": [
    "#保存模型\n",
    "joblib.dump(LGBM,'Default_clf.pkl') \n",
    "joblib.dump(select_Trans,'Transformer.pkl')"
   ]
  },
  {
   "cell_type": "code",
   "execution_count": 39,
   "id": "6fd30922",
   "metadata": {},
   "outputs": [
    {
     "name": "stdout",
     "output_type": "stream",
     "text": [
      "['loanAmnt', 'term', 'interestRate', 'installment', 'grade', 'subGrade', 'employmentTitle', 'employmentLength', 'homeOwnership', 'annualIncome', 'verificationStatus', 'isDefault', 'purpose', 'regionCode', 'dti', 'ficoRangeLow', 'ficoRangeHigh', 'openAcc', 'revolBal', 'revolUtil', 'totalAcc', 'initialListStatus', 'n1', 'n2', 'n3', 'n4', 'n5', 'n6', 'n7', 'n8', 'n9', 'n10', 'n14', 'issue_Time']\n"
     ]
    }
   ],
   "source": [
    "print(Fea)"
   ]
  },
  {
   "cell_type": "markdown",
   "id": "bcbca0ef",
   "metadata": {},
   "source": [
    "# 在测试集上应用模型"
   ]
  },
  {
   "cell_type": "code",
   "execution_count": 13,
   "id": "638c0a05",
   "metadata": {
    "ExecuteTime": {
     "end_time": "2022-10-21T07:28:41.446396Z",
     "start_time": "2022-10-21T07:28:41.442374Z"
    }
   },
   "outputs": [],
   "source": [
    "import pandas as pd\n",
    "import numpy as np\n",
    "import matplotlib.pyplot as plt\n",
    "import seaborn as sns\n",
    "import os\n",
    "import joblib\n",
    "os.environ[\"KMP_DUPLICATE_LIB_OK\"]=\"TRUE\""
   ]
  },
  {
   "cell_type": "code",
   "execution_count": 14,
   "id": "7f90b78f",
   "metadata": {
    "ExecuteTime": {
     "end_time": "2022-10-21T07:28:42.087916Z",
     "start_time": "2022-10-21T07:28:42.046064Z"
    }
   },
   "outputs": [],
   "source": [
    "#加载模型\n",
    "clf=joblib.load('Default_clf.pkl')\n",
    "Transformer=joblib.load('Transformer.pkl')"
   ]
  },
  {
   "cell_type": "code",
   "execution_count": 15,
   "id": "894e95e7",
   "metadata": {
    "ExecuteTime": {
     "end_time": "2022-10-21T07:28:43.357022Z",
     "start_time": "2022-10-21T07:28:42.654867Z"
    }
   },
   "outputs": [],
   "source": [
    "#加载测试数据:\n",
    "Test_part=pd.read_csv('data/Default/testA.csv')"
   ]
  },
  {
   "cell_type": "code",
   "execution_count": 16,
   "id": "8aa83964",
   "metadata": {
    "ExecuteTime": {
     "end_time": "2022-10-21T07:28:44.019512Z",
     "start_time": "2022-10-21T07:28:43.901826Z"
    }
   },
   "outputs": [],
   "source": [
    "Test_part.fillna(method='ffill',inplace=True)"
   ]
  },
  {
   "cell_type": "code",
   "execution_count": 17,
   "id": "95a8ed20",
   "metadata": {
    "ExecuteTime": {
     "end_time": "2022-10-21T07:28:44.927965Z",
     "start_time": "2022-10-21T07:28:44.725384Z"
    }
   },
   "outputs": [],
   "source": [
    "#按照特征处理部分,处理工作时长问题\n",
    "Test_part['employmentLength']=Test_part['employmentLength'].astype(str)\n",
    "Test_part['employmentLength']=Test_part['employmentLength'].map(lambda value:value.replace('years',''))\n",
    "Test_part['employmentLength']=Test_part['employmentLength'].map(lambda value:value.replace('+',''))\n",
    "Test_part['employmentLength']=Test_part['employmentLength'].map(lambda value:value.replace('year',''))\n",
    "Test_part['employmentLength']=Test_part['employmentLength'].map(lambda value:value.replace('< 1','0'))\n",
    "Test_part['employmentLength']=Test_part['employmentLength'].astype(float)"
   ]
  },
  {
   "cell_type": "code",
   "execution_count": 18,
   "id": "70ca78a9",
   "metadata": {
    "ExecuteTime": {
     "end_time": "2022-10-21T07:28:45.904098Z",
     "start_time": "2022-10-21T07:28:45.730563Z"
    }
   },
   "outputs": [],
   "source": [
    "#构造新特征\n",
    "def Creat_new(Train_part):\n",
    "    Train_part['issueDate']=Train_part['issueDate'].map(lambda value:value[:4])\n",
    "    Train_part['earliesCreditLine']=Train_part['earliesCreditLine'].map(lambda value:value[-4:])\n",
    "    Train_part['issueDate']=Train_part['issueDate'].astype(float)\n",
    "    Train_part['earliesCreditLine']=Train_part['earliesCreditLine'].astype(float)\n",
    "    #构造完成后，这两个特征可以删除\n",
    "    Train_part['issue_Time']=Train_part['issueDate']-Train_part['earliesCreditLine']\n",
    "    Train_part.drop(columns=['issueDate','earliesCreditLine'],inplace=True)\n",
    "    return Train_part\n",
    "Test_part=Creat_new(Test_part)"
   ]
  },
  {
   "cell_type": "code",
   "execution_count": 19,
   "id": "ffe6ba46",
   "metadata": {
    "ExecuteTime": {
     "end_time": "2022-10-21T07:28:47.750308Z",
     "start_time": "2022-10-21T07:28:47.732363Z"
    }
   },
   "outputs": [
    {
     "data": {
      "text/html": [
       "<div>\n",
       "<style scoped>\n",
       "    .dataframe tbody tr th:only-of-type {\n",
       "        vertical-align: middle;\n",
       "    }\n",
       "\n",
       "    .dataframe tbody tr th {\n",
       "        vertical-align: top;\n",
       "    }\n",
       "\n",
       "    .dataframe thead th {\n",
       "        text-align: right;\n",
       "    }\n",
       "</style>\n",
       "<table border=\"1\" class=\"dataframe\">\n",
       "  <thead>\n",
       "    <tr style=\"text-align: right;\">\n",
       "      <th></th>\n",
       "      <th>id</th>\n",
       "      <th>loanAmnt</th>\n",
       "      <th>term</th>\n",
       "      <th>interestRate</th>\n",
       "      <th>installment</th>\n",
       "      <th>grade</th>\n",
       "      <th>subGrade</th>\n",
       "      <th>employmentTitle</th>\n",
       "      <th>employmentLength</th>\n",
       "      <th>homeOwnership</th>\n",
       "      <th>...</th>\n",
       "      <th>n6</th>\n",
       "      <th>n7</th>\n",
       "      <th>n8</th>\n",
       "      <th>n9</th>\n",
       "      <th>n10</th>\n",
       "      <th>n11</th>\n",
       "      <th>n12</th>\n",
       "      <th>n13</th>\n",
       "      <th>n14</th>\n",
       "      <th>issue_Time</th>\n",
       "    </tr>\n",
       "  </thead>\n",
       "  <tbody>\n",
       "    <tr>\n",
       "      <th>0</th>\n",
       "      <td>800000</td>\n",
       "      <td>14000.0</td>\n",
       "      <td>3</td>\n",
       "      <td>10.99</td>\n",
       "      <td>458.28</td>\n",
       "      <td>B</td>\n",
       "      <td>B3</td>\n",
       "      <td>7027.0</td>\n",
       "      <td>10.0</td>\n",
       "      <td>0</td>\n",
       "      <td>...</td>\n",
       "      <td>4.0</td>\n",
       "      <td>15.0</td>\n",
       "      <td>19.0</td>\n",
       "      <td>6.0</td>\n",
       "      <td>17.0</td>\n",
       "      <td>0.0</td>\n",
       "      <td>0.0</td>\n",
       "      <td>1.0</td>\n",
       "      <td>3.0</td>\n",
       "      <td>40.0</td>\n",
       "    </tr>\n",
       "    <tr>\n",
       "      <th>1</th>\n",
       "      <td>800001</td>\n",
       "      <td>20000.0</td>\n",
       "      <td>5</td>\n",
       "      <td>14.65</td>\n",
       "      <td>472.14</td>\n",
       "      <td>C</td>\n",
       "      <td>C5</td>\n",
       "      <td>60426.0</td>\n",
       "      <td>10.0</td>\n",
       "      <td>0</td>\n",
       "      <td>...</td>\n",
       "      <td>3.0</td>\n",
       "      <td>3.0</td>\n",
       "      <td>9.0</td>\n",
       "      <td>3.0</td>\n",
       "      <td>5.0</td>\n",
       "      <td>0.0</td>\n",
       "      <td>0.0</td>\n",
       "      <td>2.0</td>\n",
       "      <td>2.0</td>\n",
       "      <td>14.0</td>\n",
       "    </tr>\n",
       "    <tr>\n",
       "      <th>2</th>\n",
       "      <td>800002</td>\n",
       "      <td>12000.0</td>\n",
       "      <td>3</td>\n",
       "      <td>19.99</td>\n",
       "      <td>445.91</td>\n",
       "      <td>D</td>\n",
       "      <td>D4</td>\n",
       "      <td>23547.0</td>\n",
       "      <td>2.0</td>\n",
       "      <td>1</td>\n",
       "      <td>...</td>\n",
       "      <td>36.0</td>\n",
       "      <td>5.0</td>\n",
       "      <td>6.0</td>\n",
       "      <td>4.0</td>\n",
       "      <td>12.0</td>\n",
       "      <td>0.0</td>\n",
       "      <td>0.0</td>\n",
       "      <td>0.0</td>\n",
       "      <td>7.0</td>\n",
       "      <td>10.0</td>\n",
       "    </tr>\n",
       "    <tr>\n",
       "      <th>3</th>\n",
       "      <td>800003</td>\n",
       "      <td>17500.0</td>\n",
       "      <td>5</td>\n",
       "      <td>14.31</td>\n",
       "      <td>410.02</td>\n",
       "      <td>C</td>\n",
       "      <td>C4</td>\n",
       "      <td>636.0</td>\n",
       "      <td>4.0</td>\n",
       "      <td>0</td>\n",
       "      <td>...</td>\n",
       "      <td>2.0</td>\n",
       "      <td>8.0</td>\n",
       "      <td>14.0</td>\n",
       "      <td>2.0</td>\n",
       "      <td>10.0</td>\n",
       "      <td>0.0</td>\n",
       "      <td>0.0</td>\n",
       "      <td>0.0</td>\n",
       "      <td>3.0</td>\n",
       "      <td>12.0</td>\n",
       "    </tr>\n",
       "    <tr>\n",
       "      <th>4</th>\n",
       "      <td>800004</td>\n",
       "      <td>35000.0</td>\n",
       "      <td>3</td>\n",
       "      <td>17.09</td>\n",
       "      <td>1249.42</td>\n",
       "      <td>D</td>\n",
       "      <td>D1</td>\n",
       "      <td>368446.0</td>\n",
       "      <td>0.0</td>\n",
       "      <td>1</td>\n",
       "      <td>...</td>\n",
       "      <td>3.0</td>\n",
       "      <td>16.0</td>\n",
       "      <td>18.0</td>\n",
       "      <td>11.0</td>\n",
       "      <td>19.0</td>\n",
       "      <td>0.0</td>\n",
       "      <td>0.0</td>\n",
       "      <td>0.0</td>\n",
       "      <td>1.0</td>\n",
       "      <td>17.0</td>\n",
       "    </tr>\n",
       "  </tbody>\n",
       "</table>\n",
       "<p>5 rows × 45 columns</p>\n",
       "</div>"
      ],
      "text/plain": [
       "       id  loanAmnt  term  interestRate  installment grade subGrade  \\\n",
       "0  800000   14000.0     3         10.99       458.28     B       B3   \n",
       "1  800001   20000.0     5         14.65       472.14     C       C5   \n",
       "2  800002   12000.0     3         19.99       445.91     D       D4   \n",
       "3  800003   17500.0     5         14.31       410.02     C       C4   \n",
       "4  800004   35000.0     3         17.09      1249.42     D       D1   \n",
       "\n",
       "   employmentTitle  employmentLength  homeOwnership  ...    n6    n7    n8  \\\n",
       "0           7027.0              10.0              0  ...   4.0  15.0  19.0   \n",
       "1          60426.0              10.0              0  ...   3.0   3.0   9.0   \n",
       "2          23547.0               2.0              1  ...  36.0   5.0   6.0   \n",
       "3            636.0               4.0              0  ...   2.0   8.0  14.0   \n",
       "4         368446.0               0.0              1  ...   3.0  16.0  18.0   \n",
       "\n",
       "     n9   n10  n11  n12  n13  n14  issue_Time  \n",
       "0   6.0  17.0  0.0  0.0  1.0  3.0        40.0  \n",
       "1   3.0   5.0  0.0  0.0  2.0  2.0        14.0  \n",
       "2   4.0  12.0  0.0  0.0  0.0  7.0        10.0  \n",
       "3   2.0  10.0  0.0  0.0  0.0  3.0        12.0  \n",
       "4  11.0  19.0  0.0  0.0  0.0  1.0        17.0  \n",
       "\n",
       "[5 rows x 45 columns]"
      ]
     },
     "execution_count": 19,
     "metadata": {},
     "output_type": "execute_result"
    }
   ],
   "source": [
    "Test_part.head()"
   ]
  },
  {
   "cell_type": "code",
   "execution_count": 20,
   "id": "f6600221",
   "metadata": {
    "ExecuteTime": {
     "end_time": "2022-10-21T07:28:48.509623Z",
     "start_time": "2022-10-21T07:28:48.502604Z"
    }
   },
   "outputs": [],
   "source": [
    "id_list=Test_part['id'].tolist()"
   ]
  },
  {
   "cell_type": "code",
   "execution_count": 21,
   "id": "fc2984c0",
   "metadata": {
    "ExecuteTime": {
     "end_time": "2022-10-21T07:28:49.764541Z",
     "start_time": "2022-10-21T07:28:49.456752Z"
    },
    "scrolled": true
   },
   "outputs": [],
   "source": [
    "Feature=['loanAmnt', 'term', 'interestRate', 'installment', 'grade',\n",
    "         'subGrade', 'employmentTitle', 'employmentLength', 'homeOwnership', 'annualIncome', \n",
    "         'verificationStatus', 'purpose', 'regionCode', 'dti', 'ficoRangeLow', 'ficoRangeHigh',\n",
    "         'openAcc', 'revolBal', 'revolUtil', 'totalAcc', 'initialListStatus', 'n1', 'n2', 'n3', 'n4', 'n5', 'n6', 'n7', 'n8', 'n9', 'n10', 'n14', 'issue_Time']\n",
    "Test_part=Test_part[Feature]\n",
    "\n",
    "num_feature=['loanAmnt', 'term', 'interestRate', 'installment', 'employmentTitle', 'homeOwnership', 'annualIncome', 'purpose', 'regionCode', 'dti', 'ficoRangeLow', 'ficoRangeHigh', \n",
    "            'openAcc', 'revolBal', 'revolUtil', 'totalAcc', 'n1', 'n2', 'n3', 'n4', 'n5', 'n6', 'n7', 'n8', 'n9', 'n10', 'n14', 'employmentLength', 'issue_Time']\n",
    "\n",
    "for item in num_feature:\n",
    "    Test_part[item]=Test_part[item].astype(float)"
   ]
  },
  {
   "cell_type": "code",
   "execution_count": 22,
   "id": "649ad37f",
   "metadata": {
    "ExecuteTime": {
     "end_time": "2022-10-21T07:28:51.556209Z",
     "start_time": "2022-10-21T07:28:51.426557Z"
    }
   },
   "outputs": [],
   "source": [
    "#这些特征属于定性特征，需要进行数值处理\n",
    "object_feature=['grade', 'subGrade', 'verificationStatus', 'initialListStatus']\n",
    "\n",
    "#前两个等级需要进行编码\n",
    "for item in ['grade', 'subGrade']:\n",
    "    Test_part[item]=Test_part[item].astype(str)\n",
    "\n",
    "\n",
    "Test_part['subGrade']=Test_part['subGrade'].map(lambda x:ord(x[0])*100+int(x[1]))\n",
    "\n",
    "Test_part['grade']=Test_part['grade'].map({'A':1,'B':2,'C':3,'D':4,'E':5,'F':6,'G':7})"
   ]
  },
  {
   "cell_type": "code",
   "execution_count": 23,
   "id": "00cc2c55",
   "metadata": {
    "ExecuteTime": {
     "end_time": "2022-10-21T07:28:53.628189Z",
     "start_time": "2022-10-21T07:28:53.604254Z"
    }
   },
   "outputs": [
    {
     "data": {
      "text/html": [
       "<div>\n",
       "<style scoped>\n",
       "    .dataframe tbody tr th:only-of-type {\n",
       "        vertical-align: middle;\n",
       "    }\n",
       "\n",
       "    .dataframe tbody tr th {\n",
       "        vertical-align: top;\n",
       "    }\n",
       "\n",
       "    .dataframe thead th {\n",
       "        text-align: right;\n",
       "    }\n",
       "</style>\n",
       "<table border=\"1\" class=\"dataframe\">\n",
       "  <thead>\n",
       "    <tr style=\"text-align: right;\">\n",
       "      <th></th>\n",
       "      <th>loanAmnt</th>\n",
       "      <th>term</th>\n",
       "      <th>interestRate</th>\n",
       "      <th>installment</th>\n",
       "      <th>grade</th>\n",
       "      <th>subGrade</th>\n",
       "      <th>employmentTitle</th>\n",
       "      <th>employmentLength</th>\n",
       "      <th>homeOwnership</th>\n",
       "      <th>annualIncome</th>\n",
       "      <th>...</th>\n",
       "      <th>n3</th>\n",
       "      <th>n4</th>\n",
       "      <th>n5</th>\n",
       "      <th>n6</th>\n",
       "      <th>n7</th>\n",
       "      <th>n8</th>\n",
       "      <th>n9</th>\n",
       "      <th>n10</th>\n",
       "      <th>n14</th>\n",
       "      <th>issue_Time</th>\n",
       "    </tr>\n",
       "  </thead>\n",
       "  <tbody>\n",
       "    <tr>\n",
       "      <th>0</th>\n",
       "      <td>14000.0</td>\n",
       "      <td>3.0</td>\n",
       "      <td>10.99</td>\n",
       "      <td>458.28</td>\n",
       "      <td>2</td>\n",
       "      <td>6603</td>\n",
       "      <td>7027.0</td>\n",
       "      <td>10.0</td>\n",
       "      <td>0.0</td>\n",
       "      <td>80000.0</td>\n",
       "      <td>...</td>\n",
       "      <td>6.0</td>\n",
       "      <td>6.0</td>\n",
       "      <td>8.0</td>\n",
       "      <td>4.0</td>\n",
       "      <td>15.0</td>\n",
       "      <td>19.0</td>\n",
       "      <td>6.0</td>\n",
       "      <td>17.0</td>\n",
       "      <td>3.0</td>\n",
       "      <td>40.0</td>\n",
       "    </tr>\n",
       "    <tr>\n",
       "      <th>1</th>\n",
       "      <td>20000.0</td>\n",
       "      <td>5.0</td>\n",
       "      <td>14.65</td>\n",
       "      <td>472.14</td>\n",
       "      <td>3</td>\n",
       "      <td>6705</td>\n",
       "      <td>60426.0</td>\n",
       "      <td>10.0</td>\n",
       "      <td>0.0</td>\n",
       "      <td>50000.0</td>\n",
       "      <td>...</td>\n",
       "      <td>3.0</td>\n",
       "      <td>1.0</td>\n",
       "      <td>1.0</td>\n",
       "      <td>3.0</td>\n",
       "      <td>3.0</td>\n",
       "      <td>9.0</td>\n",
       "      <td>3.0</td>\n",
       "      <td>5.0</td>\n",
       "      <td>2.0</td>\n",
       "      <td>14.0</td>\n",
       "    </tr>\n",
       "    <tr>\n",
       "      <th>2</th>\n",
       "      <td>12000.0</td>\n",
       "      <td>3.0</td>\n",
       "      <td>19.99</td>\n",
       "      <td>445.91</td>\n",
       "      <td>4</td>\n",
       "      <td>6804</td>\n",
       "      <td>23547.0</td>\n",
       "      <td>2.0</td>\n",
       "      <td>1.0</td>\n",
       "      <td>60000.0</td>\n",
       "      <td>...</td>\n",
       "      <td>4.0</td>\n",
       "      <td>1.0</td>\n",
       "      <td>1.0</td>\n",
       "      <td>36.0</td>\n",
       "      <td>5.0</td>\n",
       "      <td>6.0</td>\n",
       "      <td>4.0</td>\n",
       "      <td>12.0</td>\n",
       "      <td>7.0</td>\n",
       "      <td>10.0</td>\n",
       "    </tr>\n",
       "    <tr>\n",
       "      <th>3</th>\n",
       "      <td>17500.0</td>\n",
       "      <td>5.0</td>\n",
       "      <td>14.31</td>\n",
       "      <td>410.02</td>\n",
       "      <td>3</td>\n",
       "      <td>6704</td>\n",
       "      <td>636.0</td>\n",
       "      <td>4.0</td>\n",
       "      <td>0.0</td>\n",
       "      <td>37000.0</td>\n",
       "      <td>...</td>\n",
       "      <td>2.0</td>\n",
       "      <td>4.0</td>\n",
       "      <td>7.0</td>\n",
       "      <td>2.0</td>\n",
       "      <td>8.0</td>\n",
       "      <td>14.0</td>\n",
       "      <td>2.0</td>\n",
       "      <td>10.0</td>\n",
       "      <td>3.0</td>\n",
       "      <td>12.0</td>\n",
       "    </tr>\n",
       "    <tr>\n",
       "      <th>4</th>\n",
       "      <td>35000.0</td>\n",
       "      <td>3.0</td>\n",
       "      <td>17.09</td>\n",
       "      <td>1249.42</td>\n",
       "      <td>4</td>\n",
       "      <td>6801</td>\n",
       "      <td>368446.0</td>\n",
       "      <td>0.0</td>\n",
       "      <td>1.0</td>\n",
       "      <td>80000.0</td>\n",
       "      <td>...</td>\n",
       "      <td>11.0</td>\n",
       "      <td>9.0</td>\n",
       "      <td>11.0</td>\n",
       "      <td>3.0</td>\n",
       "      <td>16.0</td>\n",
       "      <td>18.0</td>\n",
       "      <td>11.0</td>\n",
       "      <td>19.0</td>\n",
       "      <td>1.0</td>\n",
       "      <td>17.0</td>\n",
       "    </tr>\n",
       "  </tbody>\n",
       "</table>\n",
       "<p>5 rows × 33 columns</p>\n",
       "</div>"
      ],
      "text/plain": [
       "   loanAmnt  term  interestRate  installment  grade  subGrade  \\\n",
       "0   14000.0   3.0         10.99       458.28      2      6603   \n",
       "1   20000.0   5.0         14.65       472.14      3      6705   \n",
       "2   12000.0   3.0         19.99       445.91      4      6804   \n",
       "3   17500.0   5.0         14.31       410.02      3      6704   \n",
       "4   35000.0   3.0         17.09      1249.42      4      6801   \n",
       "\n",
       "   employmentTitle  employmentLength  homeOwnership  annualIncome  ...    n3  \\\n",
       "0           7027.0              10.0            0.0       80000.0  ...   6.0   \n",
       "1          60426.0              10.0            0.0       50000.0  ...   3.0   \n",
       "2          23547.0               2.0            1.0       60000.0  ...   4.0   \n",
       "3            636.0               4.0            0.0       37000.0  ...   2.0   \n",
       "4         368446.0               0.0            1.0       80000.0  ...  11.0   \n",
       "\n",
       "    n4    n5    n6    n7    n8    n9   n10  n14  issue_Time  \n",
       "0  6.0   8.0   4.0  15.0  19.0   6.0  17.0  3.0        40.0  \n",
       "1  1.0   1.0   3.0   3.0   9.0   3.0   5.0  2.0        14.0  \n",
       "2  1.0   1.0  36.0   5.0   6.0   4.0  12.0  7.0        10.0  \n",
       "3  4.0   7.0   2.0   8.0  14.0   2.0  10.0  3.0        12.0  \n",
       "4  9.0  11.0   3.0  16.0  18.0  11.0  19.0  1.0        17.0  \n",
       "\n",
       "[5 rows x 33 columns]"
      ]
     },
     "execution_count": 23,
     "metadata": {},
     "output_type": "execute_result"
    }
   ],
   "source": [
    "Test_part.head()"
   ]
  },
  {
   "cell_type": "code",
   "execution_count": 24,
   "id": "2ac15cee",
   "metadata": {
    "ExecuteTime": {
     "end_time": "2022-10-21T07:28:56.213107Z",
     "start_time": "2022-10-21T07:28:56.138276Z"
    }
   },
   "outputs": [
    {
     "name": "stdout",
     "output_type": "stream",
     "text": [
      "(200000, 33)\n"
     ]
    }
   ],
   "source": [
    "#构造测试数据\n",
    "TestData=np.array(Test_part)\n",
    "print(np.shape(TestData))"
   ]
  },
  {
   "cell_type": "code",
   "execution_count": 25,
   "id": "8ca2c389",
   "metadata": {
    "ExecuteTime": {
     "end_time": "2022-10-21T07:28:56.773964Z",
     "start_time": "2022-10-21T07:28:56.738058Z"
    }
   },
   "outputs": [
    {
     "data": {
      "text/plain": [
       "(200000, 29)"
      ]
     },
     "execution_count": 25,
     "metadata": {},
     "output_type": "execute_result"
    }
   ],
   "source": [
    "TestData_sele=Transformer.transform(TestData)\n",
    "np.shape(TestData_sele)"
   ]
  },
  {
   "cell_type": "code",
   "execution_count": 26,
   "id": "36f1fa81",
   "metadata": {
    "ExecuteTime": {
     "end_time": "2022-10-21T07:28:58.456716Z",
     "start_time": "2022-10-21T07:28:57.330727Z"
    }
   },
   "outputs": [],
   "source": [
    "proba=clf.predict_proba(TestData_sele)[:,1]"
   ]
  },
  {
   "cell_type": "code",
   "execution_count": 1,
   "id": "e427605e",
   "metadata": {
    "ExecuteTime": {
     "end_time": "2022-10-21T07:29:27.462300Z",
     "start_time": "2022-10-21T07:29:27.063369Z"
    }
   },
   "outputs": [
    {
     "ename": "NameError",
     "evalue": "name 'pd' is not defined",
     "output_type": "error",
     "traceback": [
      "\u001b[1;31m---------------------------------------------------------------------------\u001b[0m",
      "\u001b[1;31mNameError\u001b[0m                                 Traceback (most recent call last)",
      "Cell \u001b[1;32mIn [1], line 1\u001b[0m\n\u001b[1;32m----> 1\u001b[0m sub_part\u001b[38;5;241m=\u001b[39mpd\u001b[38;5;241m.\u001b[39mDataFrame({\u001b[38;5;124m'\u001b[39m\u001b[38;5;124mid\u001b[39m\u001b[38;5;124m'\u001b[39m:id_list,\u001b[38;5;124m'\u001b[39m\u001b[38;5;124misDefault\u001b[39m\u001b[38;5;124m'\u001b[39m:proba})\n",
      "\u001b[1;31mNameError\u001b[0m: name 'pd' is not defined"
     ]
    }
   ],
   "source": [
    "sub_part=pd.DataFrame({'id':id_list,'isDefault':proba})"
   ]
  },
  {
   "cell_type": "code",
   "execution_count": 16,
   "id": "4bb4e34d",
   "metadata": {
    "ExecuteTime": {
     "end_time": "2022-10-21T00:24:18.509990Z",
     "start_time": "2022-10-21T00:24:18.503969Z"
    }
   },
   "outputs": [
    {
     "data": {
      "text/html": [
       "<div>\n",
       "<style scoped>\n",
       "    .dataframe tbody tr th:only-of-type {\n",
       "        vertical-align: middle;\n",
       "    }\n",
       "\n",
       "    .dataframe tbody tr th {\n",
       "        vertical-align: top;\n",
       "    }\n",
       "\n",
       "    .dataframe thead th {\n",
       "        text-align: right;\n",
       "    }\n",
       "</style>\n",
       "<table border=\"1\" class=\"dataframe\">\n",
       "  <thead>\n",
       "    <tr style=\"text-align: right;\">\n",
       "      <th></th>\n",
       "      <th>id</th>\n",
       "      <th>isDefault</th>\n",
       "    </tr>\n",
       "  </thead>\n",
       "  <tbody>\n",
       "    <tr>\n",
       "      <th>0</th>\n",
       "      <td>800000</td>\n",
       "      <td>0.044856</td>\n",
       "    </tr>\n",
       "    <tr>\n",
       "      <th>1</th>\n",
       "      <td>800001</td>\n",
       "      <td>0.498293</td>\n",
       "    </tr>\n",
       "    <tr>\n",
       "      <th>2</th>\n",
       "      <td>800002</td>\n",
       "      <td>0.423753</td>\n",
       "    </tr>\n",
       "    <tr>\n",
       "      <th>3</th>\n",
       "      <td>800003</td>\n",
       "      <td>0.258602</td>\n",
       "    </tr>\n",
       "    <tr>\n",
       "      <th>4</th>\n",
       "      <td>800004</td>\n",
       "      <td>0.296998</td>\n",
       "    </tr>\n",
       "  </tbody>\n",
       "</table>\n",
       "</div>"
      ],
      "text/plain": [
       "       id  isDefault\n",
       "0  800000   0.044856\n",
       "1  800001   0.498293\n",
       "2  800002   0.423753\n",
       "3  800003   0.258602\n",
       "4  800004   0.296998"
      ]
     },
     "execution_count": 16,
     "metadata": {},
     "output_type": "execute_result"
    }
   ],
   "source": [
    "sub_part.head()"
   ]
  },
  {
   "cell_type": "code",
   "execution_count": 17,
   "id": "eb8c35a9",
   "metadata": {
    "ExecuteTime": {
     "end_time": "2022-10-21T00:24:21.611178Z",
     "start_time": "2022-10-21T00:24:21.083470Z"
    }
   },
   "outputs": [],
   "source": [
    "sub_part.to_csv('submit.csv')"
   ]
  },
  {
   "cell_type": "code",
   "execution_count": null,
   "id": "b06e5005",
   "metadata": {},
   "outputs": [],
   "source": []
  }
 ],
 "metadata": {
  "kernelspec": {
   "display_name": "Python 3 (ipykernel)",
   "language": "python",
   "name": "python3"
  },
  "language_info": {
   "codemirror_mode": {
    "name": "ipython",
    "version": 3
   },
   "file_extension": ".py",
   "mimetype": "text/x-python",
   "name": "python",
   "nbconvert_exporter": "python",
   "pygments_lexer": "ipython3",
   "version": "3.10.6"
  },
  "toc": {
   "base_numbering": 1,
   "nav_menu": {},
   "number_sections": true,
   "sideBar": true,
   "skip_h1_title": false,
   "title_cell": "Table of Contents",
   "title_sidebar": "Contents",
   "toc_cell": false,
   "toc_position": {
    "height": "calc(100% - 180px)",
    "left": "10px",
    "top": "150px",
    "width": "165px"
   },
   "toc_section_display": true,
   "toc_window_display": true
  },
  "vscode": {
   "interpreter": {
    "hash": "52634da84371cba311ea128a5ea7cdc41ff074b781779e754b270ff9f8153cee"
   }
  }
 },
 "nbformat": 4,
 "nbformat_minor": 5
}
